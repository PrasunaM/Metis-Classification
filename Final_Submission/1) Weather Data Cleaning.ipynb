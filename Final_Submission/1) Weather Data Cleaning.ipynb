{
 "cells": [
  {
   "cell_type": "markdown",
   "id": "998695ef",
   "metadata": {},
   "source": [
    "## Australian Weather Data"
   ]
  },
  {
   "cell_type": "markdown",
   "id": "4418efb4",
   "metadata": {},
   "source": [
    "### Predicting whether it will rain tomorrow or not. Data was downloaded from Kaggle https://www.kaggle.com/jsphyg/weather-dataset-rattle-package "
   ]
  },
  {
   "cell_type": "raw",
   "id": "5a4ae8f6",
   "metadata": {},
   "source": [
    "In this notebook-\n",
    "1) Data was cleaned \n",
    "2) Rows with nulls on target variable were dropped\n",
    "3) Nulls in other features were replaced with average grouped by location and from closest locations\n",
    "4) Checked for outliers\n",
    "5) Changed columns to appropriate data types  "
   ]
  },
  {
   "cell_type": "code",
   "execution_count": 1,
   "id": "7a45978f",
   "metadata": {},
   "outputs": [
    {
     "data": {
      "image/png": "[encoded data removed]",
      "text/plain": [
       "<Figure size 288x72 with 1 Axes>"
      ]
     },
     "metadata": {},
     "output_type": "display_data"
    }
   ],
   "source": [
    "import pandas as pd\n",
    "import numpy as np\n",
    "import matplotlib.pyplot as plt\n",
    "import seaborn as sns\n",
    "sns.set(style ='white')\n",
    "sns.set(style='whitegrid',\n",
    "       color_codes = True)\n",
    "customPalette = ['#630C3A', '#39C8C6', '#D3500C', '#FFB139']\n",
    "sns.set_palette(customPalette)\n",
    "sns.palplot(customPalette)\n"
   ]
  },
  {
   "cell_type": "code",
   "execution_count": 2,
   "id": "541b7871",
   "metadata": {},
   "outputs": [
    {
     "data": {
      "text/html": [
       "<div>\n",
       "<style scoped>\n",
       "    .dataframe tbody tr th:only-of-type {\n",
       "        vertical-align: middle;\n",
       "    }\n",
       "\n",
       "    .dataframe tbody tr th {\n",
       "        vertical-align: top;\n",
       "    }\n",
       "\n",
       "    .dataframe thead th {\n",
       "        text-align: right;\n",
       "    }\n",
       "</style>\n",
       "<table border=\"1\" class=\"dataframe\">\n",
       "  <thead>\n",
       "    <tr style=\"text-align: right;\">\n",
       "      <th></th>\n",
       "      <th>Date</th>\n",
       "      <th>Location</th>\n",
       "      <th>MinTemp</th>\n",
       "      <th>MaxTemp</th>\n",
       "      <th>Rainfall</th>\n",
       "      <th>Evaporation</th>\n",
       "      <th>Sunshine</th>\n",
       "      <th>WindGustDir</th>\n",
       "      <th>WindGustSpeed</th>\n",
       "      <th>WindDir9am</th>\n",
       "      <th>...</th>\n",
       "      <th>Humidity9am</th>\n",
       "      <th>Humidity3pm</th>\n",
       "      <th>Pressure9am</th>\n",
       "      <th>Pressure3pm</th>\n",
       "      <th>Cloud9am</th>\n",
       "      <th>Cloud3pm</th>\n",
       "      <th>Temp9am</th>\n",
       "      <th>Temp3pm</th>\n",
       "      <th>RainToday</th>\n",
       "      <th>RainTomorrow</th>\n",
       "    </tr>\n",
       "  </thead>\n",
       "  <tbody>\n",
       "    <tr>\n",
       "      <th>0</th>\n",
       "      <td>2008-12-01</td>\n",
       "      <td>Albury</td>\n",
       "      <td>13.4</td>\n",
       "      <td>22.9</td>\n",
       "      <td>0.6</td>\n",
       "      <td>NaN</td>\n",
       "      <td>NaN</td>\n",
       "      <td>W</td>\n",
       "      <td>44.0</td>\n",
       "      <td>W</td>\n",
       "      <td>...</td>\n",
       "      <td>71.0</td>\n",
       "      <td>22.0</td>\n",
       "      <td>1007.7</td>\n",
       "      <td>1007.1</td>\n",
       "      <td>8.0</td>\n",
       "      <td>NaN</td>\n",
       "      <td>16.9</td>\n",
       "      <td>21.8</td>\n",
       "      <td>No</td>\n",
       "      <td>No</td>\n",
       "    </tr>\n",
       "    <tr>\n",
       "      <th>1</th>\n",
       "      <td>2008-12-02</td>\n",
       "      <td>Albury</td>\n",
       "      <td>7.4</td>\n",
       "      <td>25.1</td>\n",
       "      <td>0.0</td>\n",
       "      <td>NaN</td>\n",
       "      <td>NaN</td>\n",
       "      <td>WNW</td>\n",
       "      <td>44.0</td>\n",
       "      <td>NNW</td>\n",
       "      <td>...</td>\n",
       "      <td>44.0</td>\n",
       "      <td>25.0</td>\n",
       "      <td>1010.6</td>\n",
       "      <td>1007.8</td>\n",
       "      <td>NaN</td>\n",
       "      <td>NaN</td>\n",
       "      <td>17.2</td>\n",
       "      <td>24.3</td>\n",
       "      <td>No</td>\n",
       "      <td>No</td>\n",
       "    </tr>\n",
       "    <tr>\n",
       "      <th>2</th>\n",
       "      <td>2008-12-03</td>\n",
       "      <td>Albury</td>\n",
       "      <td>12.9</td>\n",
       "      <td>25.7</td>\n",
       "      <td>0.0</td>\n",
       "      <td>NaN</td>\n",
       "      <td>NaN</td>\n",
       "      <td>WSW</td>\n",
       "      <td>46.0</td>\n",
       "      <td>W</td>\n",
       "      <td>...</td>\n",
       "      <td>38.0</td>\n",
       "      <td>30.0</td>\n",
       "      <td>1007.6</td>\n",
       "      <td>1008.7</td>\n",
       "      <td>NaN</td>\n",
       "      <td>2.0</td>\n",
       "      <td>21.0</td>\n",
       "      <td>23.2</td>\n",
       "      <td>No</td>\n",
       "      <td>No</td>\n",
       "    </tr>\n",
       "    <tr>\n",
       "      <th>3</th>\n",
       "      <td>2008-12-04</td>\n",
       "      <td>Albury</td>\n",
       "      <td>9.2</td>\n",
       "      <td>28.0</td>\n",
       "      <td>0.0</td>\n",
       "      <td>NaN</td>\n",
       "      <td>NaN</td>\n",
       "      <td>NE</td>\n",
       "      <td>24.0</td>\n",
       "      <td>SE</td>\n",
       "      <td>...</td>\n",
       "      <td>45.0</td>\n",
       "      <td>16.0</td>\n",
       "      <td>1017.6</td>\n",
       "      <td>1012.8</td>\n",
       "      <td>NaN</td>\n",
       "      <td>NaN</td>\n",
       "      <td>18.1</td>\n",
       "      <td>26.5</td>\n",
       "      <td>No</td>\n",
       "      <td>No</td>\n",
       "    </tr>\n",
       "    <tr>\n",
       "      <th>4</th>\n",
       "      <td>2008-12-05</td>\n",
       "      <td>Albury</td>\n",
       "      <td>17.5</td>\n",
       "      <td>32.3</td>\n",
       "      <td>1.0</td>\n",
       "      <td>NaN</td>\n",
       "      <td>NaN</td>\n",
       "      <td>W</td>\n",
       "      <td>41.0</td>\n",
       "      <td>ENE</td>\n",
       "      <td>...</td>\n",
       "      <td>82.0</td>\n",
       "      <td>33.0</td>\n",
       "      <td>1010.8</td>\n",
       "      <td>1006.0</td>\n",
       "      <td>7.0</td>\n",
       "      <td>8.0</td>\n",
       "      <td>17.8</td>\n",
       "      <td>29.7</td>\n",
       "      <td>No</td>\n",
       "      <td>No</td>\n",
       "    </tr>\n",
       "  </tbody>\n",
       "</table>\n",
       "<p>5 rows × 23 columns</p>\n",
       "</div>"
      ],
      "text/plain": [
       "         Date Location  MinTemp  MaxTemp  Rainfall  Evaporation  Sunshine  \\\n",
       "0  2008-12-01   Albury     13.4     22.9       0.6          NaN       NaN   \n",
       "1  2008-12-02   Albury      7.4     25.1       0.0          NaN       NaN   \n",
       "2  2008-12-03   Albury     12.9     25.7       0.0          NaN       NaN   \n",
       "3  2008-12-04   Albury      9.2     28.0       0.0          NaN       NaN   \n",
       "4  2008-12-05   Albury     17.5     32.3       1.0          NaN       NaN   \n",
       "\n",
       "  WindGustDir  WindGustSpeed WindDir9am  ... Humidity9am  Humidity3pm  \\\n",
       "0           W           44.0          W  ...        71.0         22.0   \n",
       "1         WNW           44.0        NNW  ...        44.0         25.0   \n",
       "2         WSW           46.0          W  ...        38.0         30.0   \n",
       "3          NE           24.0         SE  ...        45.0         16.0   \n",
       "4           W           41.0        ENE  ...        82.0         33.0   \n",
       "\n",
       "   Pressure9am  Pressure3pm  Cloud9am  Cloud3pm  Temp9am  Temp3pm  RainToday  \\\n",
       "0       1007.7       1007.1       8.0       NaN     16.9     21.8         No   \n",
       "1       1010.6       1007.8       NaN       NaN     17.2     24.3         No   \n",
       "2       1007.6       1008.7       NaN       2.0     21.0     23.2         No   \n",
       "3       1017.6       1012.8       NaN       NaN     18.1     26.5         No   \n",
       "4       1010.8       1006.0       7.0       8.0     17.8     29.7         No   \n",
       "\n",
       "   RainTomorrow  \n",
       "0            No  \n",
       "1            No  \n",
       "2            No  \n",
       "3            No  \n",
       "4            No  \n",
       "\n",
       "[5 rows x 23 columns]"
      ]
     },
     "execution_count": 2,
     "metadata": {},
     "output_type": "execute_result"
    }
   ],
   "source": [
    "weather_df = pd.read_csv('weatherAUS.csv')\n",
    "weather_df.head()"
   ]
  },
  {
   "cell_type": "code",
   "execution_count": 3,
   "id": "d04ce07e",
   "metadata": {},
   "outputs": [
    {
     "data": {
      "text/html": [
       "<div>\n",
       "<style scoped>\n",
       "    .dataframe tbody tr th:only-of-type {\n",
       "        vertical-align: middle;\n",
       "    }\n",
       "\n",
       "    .dataframe tbody tr th {\n",
       "        vertical-align: top;\n",
       "    }\n",
       "\n",
       "    .dataframe thead th {\n",
       "        text-align: right;\n",
       "    }\n",
       "</style>\n",
       "<table border=\"1\" class=\"dataframe\">\n",
       "  <thead>\n",
       "    <tr style=\"text-align: right;\">\n",
       "      <th></th>\n",
       "      <th>Date</th>\n",
       "      <th>Location</th>\n",
       "      <th>MinTemp</th>\n",
       "      <th>MaxTemp</th>\n",
       "      <th>Rainfall</th>\n",
       "      <th>Evaporation</th>\n",
       "      <th>Sunshine</th>\n",
       "      <th>WindGustDir</th>\n",
       "      <th>WindGustSpeed</th>\n",
       "      <th>WindDir9am</th>\n",
       "      <th>...</th>\n",
       "      <th>Humidity9am</th>\n",
       "      <th>Humidity3pm</th>\n",
       "      <th>Pressure9am</th>\n",
       "      <th>Pressure3pm</th>\n",
       "      <th>Cloud9am</th>\n",
       "      <th>Cloud3pm</th>\n",
       "      <th>Temp9am</th>\n",
       "      <th>Temp3pm</th>\n",
       "      <th>RainToday</th>\n",
       "      <th>RainTomorrow</th>\n",
       "    </tr>\n",
       "  </thead>\n",
       "  <tbody>\n",
       "    <tr>\n",
       "      <th>count</th>\n",
       "      <td>145460</td>\n",
       "      <td>145460</td>\n",
       "      <td>143975.000000</td>\n",
       "      <td>144199.000000</td>\n",
       "      <td>142199.000000</td>\n",
       "      <td>82670.000000</td>\n",
       "      <td>75625.000000</td>\n",
       "      <td>135134</td>\n",
       "      <td>135197.000000</td>\n",
       "      <td>134894</td>\n",
       "      <td>...</td>\n",
       "      <td>142806.000000</td>\n",
       "      <td>140953.000000</td>\n",
       "      <td>130395.00000</td>\n",
       "      <td>130432.000000</td>\n",
       "      <td>89572.000000</td>\n",
       "      <td>86102.000000</td>\n",
       "      <td>143693.000000</td>\n",
       "      <td>141851.00000</td>\n",
       "      <td>142199</td>\n",
       "      <td>142193</td>\n",
       "    </tr>\n",
       "    <tr>\n",
       "      <th>unique</th>\n",
       "      <td>3436</td>\n",
       "      <td>49</td>\n",
       "      <td>NaN</td>\n",
       "      <td>NaN</td>\n",
       "      <td>NaN</td>\n",
       "      <td>NaN</td>\n",
       "      <td>NaN</td>\n",
       "      <td>16</td>\n",
       "      <td>NaN</td>\n",
       "      <td>16</td>\n",
       "      <td>...</td>\n",
       "      <td>NaN</td>\n",
       "      <td>NaN</td>\n",
       "      <td>NaN</td>\n",
       "      <td>NaN</td>\n",
       "      <td>NaN</td>\n",
       "      <td>NaN</td>\n",
       "      <td>NaN</td>\n",
       "      <td>NaN</td>\n",
       "      <td>2</td>\n",
       "      <td>2</td>\n",
       "    </tr>\n",
       "    <tr>\n",
       "      <th>top</th>\n",
       "      <td>2016-05-29</td>\n",
       "      <td>Canberra</td>\n",
       "      <td>NaN</td>\n",
       "      <td>NaN</td>\n",
       "      <td>NaN</td>\n",
       "      <td>NaN</td>\n",
       "      <td>NaN</td>\n",
       "      <td>W</td>\n",
       "      <td>NaN</td>\n",
       "      <td>N</td>\n",
       "      <td>...</td>\n",
       "      <td>NaN</td>\n",
       "      <td>NaN</td>\n",
       "      <td>NaN</td>\n",
       "      <td>NaN</td>\n",
       "      <td>NaN</td>\n",
       "      <td>NaN</td>\n",
       "      <td>NaN</td>\n",
       "      <td>NaN</td>\n",
       "      <td>No</td>\n",
       "      <td>No</td>\n",
       "    </tr>\n",
       "    <tr>\n",
       "      <th>freq</th>\n",
       "      <td>49</td>\n",
       "      <td>3436</td>\n",
       "      <td>NaN</td>\n",
       "      <td>NaN</td>\n",
       "      <td>NaN</td>\n",
       "      <td>NaN</td>\n",
       "      <td>NaN</td>\n",
       "      <td>9915</td>\n",
       "      <td>NaN</td>\n",
       "      <td>11758</td>\n",
       "      <td>...</td>\n",
       "      <td>NaN</td>\n",
       "      <td>NaN</td>\n",
       "      <td>NaN</td>\n",
       "      <td>NaN</td>\n",
       "      <td>NaN</td>\n",
       "      <td>NaN</td>\n",
       "      <td>NaN</td>\n",
       "      <td>NaN</td>\n",
       "      <td>110319</td>\n",
       "      <td>110316</td>\n",
       "    </tr>\n",
       "    <tr>\n",
       "      <th>mean</th>\n",
       "      <td>NaN</td>\n",
       "      <td>NaN</td>\n",
       "      <td>12.194034</td>\n",
       "      <td>23.221348</td>\n",
       "      <td>2.360918</td>\n",
       "      <td>5.468232</td>\n",
       "      <td>7.611178</td>\n",
       "      <td>NaN</td>\n",
       "      <td>40.035230</td>\n",
       "      <td>NaN</td>\n",
       "      <td>...</td>\n",
       "      <td>68.880831</td>\n",
       "      <td>51.539116</td>\n",
       "      <td>1017.64994</td>\n",
       "      <td>1015.255889</td>\n",
       "      <td>4.447461</td>\n",
       "      <td>4.509930</td>\n",
       "      <td>16.990631</td>\n",
       "      <td>21.68339</td>\n",
       "      <td>NaN</td>\n",
       "      <td>NaN</td>\n",
       "    </tr>\n",
       "    <tr>\n",
       "      <th>std</th>\n",
       "      <td>NaN</td>\n",
       "      <td>NaN</td>\n",
       "      <td>6.398495</td>\n",
       "      <td>7.119049</td>\n",
       "      <td>8.478060</td>\n",
       "      <td>4.193704</td>\n",
       "      <td>3.785483</td>\n",
       "      <td>NaN</td>\n",
       "      <td>13.607062</td>\n",
       "      <td>NaN</td>\n",
       "      <td>...</td>\n",
       "      <td>19.029164</td>\n",
       "      <td>20.795902</td>\n",
       "      <td>7.10653</td>\n",
       "      <td>7.037414</td>\n",
       "      <td>2.887159</td>\n",
       "      <td>2.720357</td>\n",
       "      <td>6.488753</td>\n",
       "      <td>6.93665</td>\n",
       "      <td>NaN</td>\n",
       "      <td>NaN</td>\n",
       "    </tr>\n",
       "    <tr>\n",
       "      <th>min</th>\n",
       "      <td>NaN</td>\n",
       "      <td>NaN</td>\n",
       "      <td>-8.500000</td>\n",
       "      <td>-4.800000</td>\n",
       "      <td>0.000000</td>\n",
       "      <td>0.000000</td>\n",
       "      <td>0.000000</td>\n",
       "      <td>NaN</td>\n",
       "      <td>6.000000</td>\n",
       "      <td>NaN</td>\n",
       "      <td>...</td>\n",
       "      <td>0.000000</td>\n",
       "      <td>0.000000</td>\n",
       "      <td>980.50000</td>\n",
       "      <td>977.100000</td>\n",
       "      <td>0.000000</td>\n",
       "      <td>0.000000</td>\n",
       "      <td>-7.200000</td>\n",
       "      <td>-5.40000</td>\n",
       "      <td>NaN</td>\n",
       "      <td>NaN</td>\n",
       "    </tr>\n",
       "    <tr>\n",
       "      <th>25%</th>\n",
       "      <td>NaN</td>\n",
       "      <td>NaN</td>\n",
       "      <td>7.600000</td>\n",
       "      <td>17.900000</td>\n",
       "      <td>0.000000</td>\n",
       "      <td>2.600000</td>\n",
       "      <td>4.800000</td>\n",
       "      <td>NaN</td>\n",
       "      <td>31.000000</td>\n",
       "      <td>NaN</td>\n",
       "      <td>...</td>\n",
       "      <td>57.000000</td>\n",
       "      <td>37.000000</td>\n",
       "      <td>1012.90000</td>\n",
       "      <td>1010.400000</td>\n",
       "      <td>1.000000</td>\n",
       "      <td>2.000000</td>\n",
       "      <td>12.300000</td>\n",
       "      <td>16.60000</td>\n",
       "      <td>NaN</td>\n",
       "      <td>NaN</td>\n",
       "    </tr>\n",
       "    <tr>\n",
       "      <th>50%</th>\n",
       "      <td>NaN</td>\n",
       "      <td>NaN</td>\n",
       "      <td>12.000000</td>\n",
       "      <td>22.600000</td>\n",
       "      <td>0.000000</td>\n",
       "      <td>4.800000</td>\n",
       "      <td>8.400000</td>\n",
       "      <td>NaN</td>\n",
       "      <td>39.000000</td>\n",
       "      <td>NaN</td>\n",
       "      <td>...</td>\n",
       "      <td>70.000000</td>\n",
       "      <td>52.000000</td>\n",
       "      <td>1017.60000</td>\n",
       "      <td>1015.200000</td>\n",
       "      <td>5.000000</td>\n",
       "      <td>5.000000</td>\n",
       "      <td>16.700000</td>\n",
       "      <td>21.10000</td>\n",
       "      <td>NaN</td>\n",
       "      <td>NaN</td>\n",
       "    </tr>\n",
       "    <tr>\n",
       "      <th>75%</th>\n",
       "      <td>NaN</td>\n",
       "      <td>NaN</td>\n",
       "      <td>16.900000</td>\n",
       "      <td>28.200000</td>\n",
       "      <td>0.800000</td>\n",
       "      <td>7.400000</td>\n",
       "      <td>10.600000</td>\n",
       "      <td>NaN</td>\n",
       "      <td>48.000000</td>\n",
       "      <td>NaN</td>\n",
       "      <td>...</td>\n",
       "      <td>83.000000</td>\n",
       "      <td>66.000000</td>\n",
       "      <td>1022.40000</td>\n",
       "      <td>1020.000000</td>\n",
       "      <td>7.000000</td>\n",
       "      <td>7.000000</td>\n",
       "      <td>21.600000</td>\n",
       "      <td>26.40000</td>\n",
       "      <td>NaN</td>\n",
       "      <td>NaN</td>\n",
       "    </tr>\n",
       "    <tr>\n",
       "      <th>max</th>\n",
       "      <td>NaN</td>\n",
       "      <td>NaN</td>\n",
       "      <td>33.900000</td>\n",
       "      <td>48.100000</td>\n",
       "      <td>371.000000</td>\n",
       "      <td>145.000000</td>\n",
       "      <td>14.500000</td>\n",
       "      <td>NaN</td>\n",
       "      <td>135.000000</td>\n",
       "      <td>NaN</td>\n",
       "      <td>...</td>\n",
       "      <td>100.000000</td>\n",
       "      <td>100.000000</td>\n",
       "      <td>1041.00000</td>\n",
       "      <td>1039.600000</td>\n",
       "      <td>9.000000</td>\n",
       "      <td>9.000000</td>\n",
       "      <td>40.200000</td>\n",
       "      <td>46.70000</td>\n",
       "      <td>NaN</td>\n",
       "      <td>NaN</td>\n",
       "    </tr>\n",
       "  </tbody>\n",
       "</table>\n",
       "<p>11 rows × 23 columns</p>\n",
       "</div>"
      ],
      "text/plain": [
       "              Date  Location        MinTemp        MaxTemp       Rainfall  \\\n",
       "count       145460    145460  143975.000000  144199.000000  142199.000000   \n",
       "unique        3436        49            NaN            NaN            NaN   \n",
       "top     2016-05-29  Canberra            NaN            NaN            NaN   \n",
       "freq            49      3436            NaN            NaN            NaN   \n",
       "mean           NaN       NaN      12.194034      23.221348       2.360918   \n",
       "std            NaN       NaN       6.398495       7.119049       8.478060   \n",
       "min            NaN       NaN      -8.500000      -4.800000       0.000000   \n",
       "25%            NaN       NaN       7.600000      17.900000       0.000000   \n",
       "50%            NaN       NaN      12.000000      22.600000       0.000000   \n",
       "75%            NaN       NaN      16.900000      28.200000       0.800000   \n",
       "max            NaN       NaN      33.900000      48.100000     371.000000   \n",
       "\n",
       "         Evaporation      Sunshine WindGustDir  WindGustSpeed WindDir9am  ...  \\\n",
       "count   82670.000000  75625.000000      135134  135197.000000     134894  ...   \n",
       "unique           NaN           NaN          16            NaN         16  ...   \n",
       "top              NaN           NaN           W            NaN          N  ...   \n",
       "freq             NaN           NaN        9915            NaN      11758  ...   \n",
       "mean        5.468232      7.611178         NaN      40.035230        NaN  ...   \n",
       "std         4.193704      3.785483         NaN      13.607062        NaN  ...   \n",
       "min         0.000000      0.000000         NaN       6.000000        NaN  ...   \n",
       "25%         2.600000      4.800000         NaN      31.000000        NaN  ...   \n",
       "50%         4.800000      8.400000         NaN      39.000000        NaN  ...   \n",
       "75%         7.400000     10.600000         NaN      48.000000        NaN  ...   \n",
       "max       145.000000     14.500000         NaN     135.000000        NaN  ...   \n",
       "\n",
       "          Humidity9am    Humidity3pm   Pressure9am    Pressure3pm  \\\n",
       "count   142806.000000  140953.000000  130395.00000  130432.000000   \n",
       "unique            NaN            NaN           NaN            NaN   \n",
       "top               NaN            NaN           NaN            NaN   \n",
       "freq              NaN            NaN           NaN            NaN   \n",
       "mean        68.880831      51.539116    1017.64994    1015.255889   \n",
       "std         19.029164      20.795902       7.10653       7.037414   \n",
       "min          0.000000       0.000000     980.50000     977.100000   \n",
       "25%         57.000000      37.000000    1012.90000    1010.400000   \n",
       "50%         70.000000      52.000000    1017.60000    1015.200000   \n",
       "75%         83.000000      66.000000    1022.40000    1020.000000   \n",
       "max        100.000000     100.000000    1041.00000    1039.600000   \n",
       "\n",
       "            Cloud9am      Cloud3pm        Temp9am       Temp3pm  RainToday  \\\n",
       "count   89572.000000  86102.000000  143693.000000  141851.00000     142199   \n",
       "unique           NaN           NaN            NaN           NaN          2   \n",
       "top              NaN           NaN            NaN           NaN         No   \n",
       "freq             NaN           NaN            NaN           NaN     110319   \n",
       "mean        4.447461      4.509930      16.990631      21.68339        NaN   \n",
       "std         2.887159      2.720357       6.488753       6.93665        NaN   \n",
       "min         0.000000      0.000000      -7.200000      -5.40000        NaN   \n",
       "25%         1.000000      2.000000      12.300000      16.60000        NaN   \n",
       "50%         5.000000      5.000000      16.700000      21.10000        NaN   \n",
       "75%         7.000000      7.000000      21.600000      26.40000        NaN   \n",
       "max         9.000000      9.000000      40.200000      46.70000        NaN   \n",
       "\n",
       "        RainTomorrow  \n",
       "count         142193  \n",
       "unique             2  \n",
       "top               No  \n",
       "freq          110316  \n",
       "mean             NaN  \n",
       "std              NaN  \n",
       "min              NaN  \n",
       "25%              NaN  \n",
       "50%              NaN  \n",
       "75%              NaN  \n",
       "max              NaN  \n",
       "\n",
       "[11 rows x 23 columns]"
      ]
     },
     "execution_count": 3,
     "metadata": {},
     "output_type": "execute_result"
    }
   ],
   "source": [
    "weather_df.describe(include = 'all')"
   ]
  },
  {
   "cell_type": "markdown",
   "id": "2364e184",
   "metadata": {},
   "source": [
    "### Change Data Types"
   ]
  },
  {
   "cell_type": "code",
   "execution_count": 4,
   "id": "22778759",
   "metadata": {},
   "outputs": [],
   "source": [
    "## Change Date to Date_Time "
   ]
  },
  {
   "cell_type": "code",
   "execution_count": 5,
   "id": "2bd0b02a",
   "metadata": {},
   "outputs": [],
   "source": [
    "weather_df['Date'] = pd.to_datetime(weather_df['Date'].str.strip(), format='%Y/%m/%d')\n"
   ]
  },
  {
   "cell_type": "code",
   "execution_count": 6,
   "id": "d3a73e0f",
   "metadata": {},
   "outputs": [
    {
     "name": "stdout",
     "output_type": "stream",
     "text": [
      "<class 'pandas.core.frame.DataFrame'>\n",
      "RangeIndex: 145460 entries, 0 to 145459\n",
      "Data columns (total 23 columns):\n",
      " #   Column         Non-Null Count   Dtype         \n",
      "---  ------         --------------   -----         \n",
      " 0   Date           145460 non-null  datetime64[ns]\n",
      " 1   Location       145460 non-null  object        \n",
      " 2   MinTemp        143975 non-null  float64       \n",
      " 3   MaxTemp        144199 non-null  float64       \n",
      " 4   Rainfall       142199 non-null  float64       \n",
      " 5   Evaporation    82670 non-null   float64       \n",
      " 6   Sunshine       75625 non-null   float64       \n",
      " 7   WindGustDir    135134 non-null  object        \n",
      " 8   WindGustSpeed  135197 non-null  float64       \n",
      " 9   WindDir9am     134894 non-null  object        \n",
      " 10  WindDir3pm     141232 non-null  object        \n",
      " 11  WindSpeed9am   143693 non-null  float64       \n",
      " 12  WindSpeed3pm   142398 non-null  float64       \n",
      " 13  Humidity9am    142806 non-null  float64       \n",
      " 14  Humidity3pm    140953 non-null  float64       \n",
      " 15  Pressure9am    130395 non-null  float64       \n",
      " 16  Pressure3pm    130432 non-null  float64       \n",
      " 17  Cloud9am       89572 non-null   float64       \n",
      " 18  Cloud3pm       86102 non-null   float64       \n",
      " 19  Temp9am        143693 non-null  float64       \n",
      " 20  Temp3pm        141851 non-null  float64       \n",
      " 21  RainToday      142199 non-null  object        \n",
      " 22  RainTomorrow   142193 non-null  object        \n",
      "dtypes: datetime64[ns](1), float64(16), object(6)\n",
      "memory usage: 25.5+ MB\n"
     ]
    }
   ],
   "source": [
    "weather_df.info()"
   ]
  },
  {
   "cell_type": "markdown",
   "id": "7ea359d3",
   "metadata": {},
   "source": [
    "### Dropping Nulls"
   ]
  },
  {
   "cell_type": "code",
   "execution_count": 7,
   "id": "29987f9b",
   "metadata": {},
   "outputs": [
    {
     "data": {
      "text/plain": [
       "Date                 0\n",
       "Location             0\n",
       "MinTemp           1485\n",
       "MaxTemp           1261\n",
       "Rainfall          3261\n",
       "Evaporation      62790\n",
       "Sunshine         69835\n",
       "WindGustDir      10326\n",
       "WindGustSpeed    10263\n",
       "WindDir9am       10566\n",
       "WindDir3pm        4228\n",
       "WindSpeed9am      1767\n",
       "WindSpeed3pm      3062\n",
       "Humidity9am       2654\n",
       "Humidity3pm       4507\n",
       "Pressure9am      15065\n",
       "Pressure3pm      15028\n",
       "Cloud9am         55888\n",
       "Cloud3pm         59358\n",
       "Temp9am           1767\n",
       "Temp3pm           3609\n",
       "RainToday         3261\n",
       "RainTomorrow      3267\n",
       "dtype: int64"
      ]
     },
     "execution_count": 7,
     "metadata": {},
     "output_type": "execute_result"
    }
   ],
   "source": [
    "weather_df.isnull().sum()"
   ]
  },
  {
   "cell_type": "code",
   "execution_count": 8,
   "id": "d3188601",
   "metadata": {},
   "outputs": [],
   "source": [
    "## Looks like 3000 rows are missing for the predicting variable. Dropping rows."
   ]
  },
  {
   "cell_type": "code",
   "execution_count": 9,
   "id": "6b20cf85",
   "metadata": {},
   "outputs": [],
   "source": [
    "weather_df = weather_df.dropna(subset = ['RainTomorrow']) "
   ]
  },
  {
   "cell_type": "code",
   "execution_count": 10,
   "id": "9399662b",
   "metadata": {},
   "outputs": [],
   "source": [
    "## Checking for outliers and replacing nulls with average from the location  "
   ]
  },
  {
   "cell_type": "code",
   "execution_count": 11,
   "id": "214c2291",
   "metadata": {},
   "outputs": [
    {
     "data": {
      "text/html": [
       "<div>\n",
       "<style scoped>\n",
       "    .dataframe tbody tr th:only-of-type {\n",
       "        vertical-align: middle;\n",
       "    }\n",
       "\n",
       "    .dataframe tbody tr th {\n",
       "        vertical-align: top;\n",
       "    }\n",
       "\n",
       "    .dataframe thead th {\n",
       "        text-align: right;\n",
       "    }\n",
       "</style>\n",
       "<table border=\"1\" class=\"dataframe\">\n",
       "  <thead>\n",
       "    <tr style=\"text-align: right;\">\n",
       "      <th></th>\n",
       "      <th>MinTemp</th>\n",
       "      <th>MaxTemp</th>\n",
       "      <th>Rainfall</th>\n",
       "      <th>Evaporation</th>\n",
       "      <th>Sunshine</th>\n",
       "      <th>WindGustSpeed</th>\n",
       "      <th>WindSpeed9am</th>\n",
       "      <th>WindSpeed3pm</th>\n",
       "      <th>Humidity9am</th>\n",
       "      <th>Humidity3pm</th>\n",
       "      <th>Pressure9am</th>\n",
       "      <th>Pressure3pm</th>\n",
       "      <th>Cloud9am</th>\n",
       "      <th>Cloud3pm</th>\n",
       "      <th>Temp9am</th>\n",
       "      <th>Temp3pm</th>\n",
       "    </tr>\n",
       "  </thead>\n",
       "  <tbody>\n",
       "    <tr>\n",
       "      <th>count</th>\n",
       "      <td>141556.000000</td>\n",
       "      <td>141871.000000</td>\n",
       "      <td>140787.000000</td>\n",
       "      <td>81350.000000</td>\n",
       "      <td>74377.000000</td>\n",
       "      <td>132923.000000</td>\n",
       "      <td>140845.000000</td>\n",
       "      <td>139563.000000</td>\n",
       "      <td>140419.000000</td>\n",
       "      <td>138583.000000</td>\n",
       "      <td>128179.000000</td>\n",
       "      <td>128212.000000</td>\n",
       "      <td>88536.000000</td>\n",
       "      <td>85099.000000</td>\n",
       "      <td>141289.000000</td>\n",
       "      <td>139467.000000</td>\n",
       "    </tr>\n",
       "    <tr>\n",
       "      <th>mean</th>\n",
       "      <td>12.186400</td>\n",
       "      <td>23.226784</td>\n",
       "      <td>2.349974</td>\n",
       "      <td>5.469824</td>\n",
       "      <td>7.624853</td>\n",
       "      <td>39.984292</td>\n",
       "      <td>14.001988</td>\n",
       "      <td>18.637576</td>\n",
       "      <td>68.843810</td>\n",
       "      <td>51.482606</td>\n",
       "      <td>1017.653758</td>\n",
       "      <td>1015.258204</td>\n",
       "      <td>4.437189</td>\n",
       "      <td>4.503167</td>\n",
       "      <td>16.987509</td>\n",
       "      <td>21.687235</td>\n",
       "    </tr>\n",
       "    <tr>\n",
       "      <th>std</th>\n",
       "      <td>6.403283</td>\n",
       "      <td>7.117618</td>\n",
       "      <td>8.465173</td>\n",
       "      <td>4.188537</td>\n",
       "      <td>3.781525</td>\n",
       "      <td>13.588801</td>\n",
       "      <td>8.893337</td>\n",
       "      <td>8.803345</td>\n",
       "      <td>19.051293</td>\n",
       "      <td>20.797772</td>\n",
       "      <td>7.105476</td>\n",
       "      <td>7.036677</td>\n",
       "      <td>2.887016</td>\n",
       "      <td>2.720633</td>\n",
       "      <td>6.492838</td>\n",
       "      <td>6.937594</td>\n",
       "    </tr>\n",
       "    <tr>\n",
       "      <th>min</th>\n",
       "      <td>-8.500000</td>\n",
       "      <td>-4.800000</td>\n",
       "      <td>0.000000</td>\n",
       "      <td>0.000000</td>\n",
       "      <td>0.000000</td>\n",
       "      <td>6.000000</td>\n",
       "      <td>0.000000</td>\n",
       "      <td>0.000000</td>\n",
       "      <td>0.000000</td>\n",
       "      <td>0.000000</td>\n",
       "      <td>980.500000</td>\n",
       "      <td>977.100000</td>\n",
       "      <td>0.000000</td>\n",
       "      <td>0.000000</td>\n",
       "      <td>-7.200000</td>\n",
       "      <td>-5.400000</td>\n",
       "    </tr>\n",
       "    <tr>\n",
       "      <th>25%</th>\n",
       "      <td>7.600000</td>\n",
       "      <td>17.900000</td>\n",
       "      <td>0.000000</td>\n",
       "      <td>2.600000</td>\n",
       "      <td>4.900000</td>\n",
       "      <td>31.000000</td>\n",
       "      <td>7.000000</td>\n",
       "      <td>13.000000</td>\n",
       "      <td>57.000000</td>\n",
       "      <td>37.000000</td>\n",
       "      <td>1012.900000</td>\n",
       "      <td>1010.400000</td>\n",
       "      <td>1.000000</td>\n",
       "      <td>2.000000</td>\n",
       "      <td>12.300000</td>\n",
       "      <td>16.600000</td>\n",
       "    </tr>\n",
       "    <tr>\n",
       "      <th>50%</th>\n",
       "      <td>12.000000</td>\n",
       "      <td>22.600000</td>\n",
       "      <td>0.000000</td>\n",
       "      <td>4.800000</td>\n",
       "      <td>8.500000</td>\n",
       "      <td>39.000000</td>\n",
       "      <td>13.000000</td>\n",
       "      <td>19.000000</td>\n",
       "      <td>70.000000</td>\n",
       "      <td>52.000000</td>\n",
       "      <td>1017.600000</td>\n",
       "      <td>1015.200000</td>\n",
       "      <td>5.000000</td>\n",
       "      <td>5.000000</td>\n",
       "      <td>16.700000</td>\n",
       "      <td>21.100000</td>\n",
       "    </tr>\n",
       "    <tr>\n",
       "      <th>75%</th>\n",
       "      <td>16.800000</td>\n",
       "      <td>28.200000</td>\n",
       "      <td>0.800000</td>\n",
       "      <td>7.400000</td>\n",
       "      <td>10.600000</td>\n",
       "      <td>48.000000</td>\n",
       "      <td>19.000000</td>\n",
       "      <td>24.000000</td>\n",
       "      <td>83.000000</td>\n",
       "      <td>66.000000</td>\n",
       "      <td>1022.400000</td>\n",
       "      <td>1020.000000</td>\n",
       "      <td>7.000000</td>\n",
       "      <td>7.000000</td>\n",
       "      <td>21.600000</td>\n",
       "      <td>26.400000</td>\n",
       "    </tr>\n",
       "    <tr>\n",
       "      <th>max</th>\n",
       "      <td>33.900000</td>\n",
       "      <td>48.100000</td>\n",
       "      <td>371.000000</td>\n",
       "      <td>145.000000</td>\n",
       "      <td>14.500000</td>\n",
       "      <td>135.000000</td>\n",
       "      <td>130.000000</td>\n",
       "      <td>87.000000</td>\n",
       "      <td>100.000000</td>\n",
       "      <td>100.000000</td>\n",
       "      <td>1041.000000</td>\n",
       "      <td>1039.600000</td>\n",
       "      <td>9.000000</td>\n",
       "      <td>9.000000</td>\n",
       "      <td>40.200000</td>\n",
       "      <td>46.700000</td>\n",
       "    </tr>\n",
       "  </tbody>\n",
       "</table>\n",
       "</div>"
      ],
      "text/plain": [
       "             MinTemp        MaxTemp       Rainfall   Evaporation  \\\n",
       "count  141556.000000  141871.000000  140787.000000  81350.000000   \n",
       "mean       12.186400      23.226784       2.349974      5.469824   \n",
       "std         6.403283       7.117618       8.465173      4.188537   \n",
       "min        -8.500000      -4.800000       0.000000      0.000000   \n",
       "25%         7.600000      17.900000       0.000000      2.600000   \n",
       "50%        12.000000      22.600000       0.000000      4.800000   \n",
       "75%        16.800000      28.200000       0.800000      7.400000   \n",
       "max        33.900000      48.100000     371.000000    145.000000   \n",
       "\n",
       "           Sunshine  WindGustSpeed   WindSpeed9am   WindSpeed3pm  \\\n",
       "count  74377.000000  132923.000000  140845.000000  139563.000000   \n",
       "mean       7.624853      39.984292      14.001988      18.637576   \n",
       "std        3.781525      13.588801       8.893337       8.803345   \n",
       "min        0.000000       6.000000       0.000000       0.000000   \n",
       "25%        4.900000      31.000000       7.000000      13.000000   \n",
       "50%        8.500000      39.000000      13.000000      19.000000   \n",
       "75%       10.600000      48.000000      19.000000      24.000000   \n",
       "max       14.500000     135.000000     130.000000      87.000000   \n",
       "\n",
       "         Humidity9am    Humidity3pm    Pressure9am    Pressure3pm  \\\n",
       "count  140419.000000  138583.000000  128179.000000  128212.000000   \n",
       "mean       68.843810      51.482606    1017.653758    1015.258204   \n",
       "std        19.051293      20.797772       7.105476       7.036677   \n",
       "min         0.000000       0.000000     980.500000     977.100000   \n",
       "25%        57.000000      37.000000    1012.900000    1010.400000   \n",
       "50%        70.000000      52.000000    1017.600000    1015.200000   \n",
       "75%        83.000000      66.000000    1022.400000    1020.000000   \n",
       "max       100.000000     100.000000    1041.000000    1039.600000   \n",
       "\n",
       "           Cloud9am      Cloud3pm        Temp9am        Temp3pm  \n",
       "count  88536.000000  85099.000000  141289.000000  139467.000000  \n",
       "mean       4.437189      4.503167      16.987509      21.687235  \n",
       "std        2.887016      2.720633       6.492838       6.937594  \n",
       "min        0.000000      0.000000      -7.200000      -5.400000  \n",
       "25%        1.000000      2.000000      12.300000      16.600000  \n",
       "50%        5.000000      5.000000      16.700000      21.100000  \n",
       "75%        7.000000      7.000000      21.600000      26.400000  \n",
       "max        9.000000      9.000000      40.200000      46.700000  "
      ]
     },
     "execution_count": 11,
     "metadata": {},
     "output_type": "execute_result"
    }
   ],
   "source": [
    "weather_df.describe()"
   ]
  },
  {
   "cell_type": "code",
   "execution_count": 12,
   "id": "9dc2cd49",
   "metadata": {},
   "outputs": [
    {
     "data": {
      "text/plain": [
       "['MinTemp',\n",
       " 'MaxTemp',\n",
       " 'Rainfall',\n",
       " 'Evaporation',\n",
       " 'Sunshine',\n",
       " 'WindGustSpeed',\n",
       " 'WindSpeed9am',\n",
       " 'WindSpeed3pm',\n",
       " 'Humidity9am',\n",
       " 'Humidity3pm',\n",
       " 'Pressure9am',\n",
       " 'Pressure3pm',\n",
       " 'Cloud9am',\n",
       " 'Cloud3pm',\n",
       " 'Temp9am',\n",
       " 'Temp3pm']"
      ]
     },
     "execution_count": 12,
     "metadata": {},
     "output_type": "execute_result"
    }
   ],
   "source": [
    "Numerical = []\n",
    "for column in weather_df.columns:\n",
    "    if weather_df [column].dtype != 'O':\n",
    "        Numerical.append(column)\n",
    "\n",
    "\n",
    "Numerical.remove('Date')\n",
    "Numerical"
   ]
  },
  {
   "cell_type": "code",
   "execution_count": 155,
   "id": "bc09e4c4",
   "metadata": {},
   "outputs": [
    {
     "data": {
      "image/png": "[encoded data removed]",
      "text/plain": [
       "<Figure size 432x288 with 1 Axes>"
      ]
     },
     "metadata": {},
     "output_type": "display_data"
    },
    {
     "data": {
      "image/png": "[encoded data removed]",
      "text/plain": [
       "<Figure size 432x288 with 1 Axes>"
      ]
     },
     "metadata": {},
     "output_type": "display_data"
    },
    {
     "data": {
      "image/png": "[encoded data removed]",
      "text/plain": [
       "<Figure size 432x288 with 1 Axes>"
      ]
     },
     "metadata": {},
     "output_type": "display_data"
    },
    {
     "data": {
      "image/png": "[encoded data removed]",
      "text/plain": [
       "<Figure size 432x288 with 1 Axes>"
      ]
     },
     "metadata": {},
     "output_type": "display_data"
    },
    {
     "data": {
      "image/png": "[encoded data removed]",
      "text/plain": [
       "<Figure size 432x288 with 1 Axes>"
      ]
     },
     "metadata": {},
     "output_type": "display_data"
    },
    {
     "data": {
      "image/png": "[encoded data removed]",
      "text/plain": [
       "<Figure size 432x288 with 1 Axes>"
      ]
     },
     "metadata": {},
     "output_type": "display_data"
    },
    {
     "data": {
      "image/png": "[encoded data removed]",
      "text/plain": [
       "<Figure size 432x288 with 1 Axes>"
      ]
     },
     "metadata": {},
     "output_type": "display_data"
    },
    {
     "data": {
      "image/png": "[encoded data removed]",
      "text/plain": [
       "<Figure size 432x288 with 1 Axes>"
      ]
     },
     "metadata": {},
     "output_type": "display_data"
    },
    {
     "data": {
      "image/png": "[encoded data removed]",
      "text/plain": [
       "<Figure size 432x288 with 1 Axes>"
      ]
     },
     "metadata": {},
     "output_type": "display_data"
    },
    {
     "data": {
      "image/png": "[encoded data removed]",
      "text/plain": [
       "<Figure size 432x288 with 1 Axes>"
      ]
     },
     "metadata": {},
     "output_type": "display_data"
    },
    {
     "data": {
      "image/png": "[encoded data removed]",
      "text/plain": [
       "<Figure size 432x288 with 1 Axes>"
      ]
     },
     "metadata": {},
     "output_type": "display_data"
    },
    {
     "data": {
      "image/png": "[encoded data removed]",
      "text/plain": [
       "<Figure size 432x288 with 1 Axes>"
      ]
     },
     "metadata": {},
     "output_type": "display_data"
    },
    {
     "data": {
      "image/png": "[encoded data removed]",
      "text/plain": [
       "<Figure size 432x288 with 1 Axes>"
      ]
     },
     "metadata": {},
     "output_type": "display_data"
    },
    {
     "data": {
      "image/png": "[encoded data removed]",
      "text/plain": [
       "<Figure size 432x288 with 1 Axes>"
      ]
     },
     "metadata": {},
     "output_type": "display_data"
    },
    {
     "data": {
      "image/png": "[encoded data removed]",
      "text/plain": [
       "<Figure size 432x288 with 1 Axes>"
      ]
     },
     "metadata": {},
     "output_type": "display_data"
    },
    {
     "data": {
      "image/png": "[encoded data removed]",
      "text/plain": [
       "<Figure size 432x288 with 1 Axes>"
      ]
     },
     "metadata": {},
     "output_type": "display_data"
    }
   ],
   "source": [
    "for var in Numerical:\n",
    "    sns.boxplot(x = weather_df[var] )\n",
    "    plt.show()\n",
    "\n"
   ]
  },
  {
   "cell_type": "code",
   "execution_count": 14,
   "id": "a1126411",
   "metadata": {},
   "outputs": [],
   "source": [
    "## Not too many outliers, replacing nulls with average values grouped by location "
   ]
  },
  {
   "cell_type": "raw",
   "id": "974d995a",
   "metadata": {},
   "source": [
    "Replacing nulls with average values grouped by location"
   ]
  },
  {
   "cell_type": "code",
   "execution_count": 15,
   "id": "a71b9525",
   "metadata": {},
   "outputs": [],
   "source": [
    "for var in Numerical:\n",
    "    weather_df [var] = weather_df [var].fillna(weather_df.groupby('Location')[var].transform('mean'))"
   ]
  },
  {
   "cell_type": "code",
   "execution_count": 16,
   "id": "37a207db",
   "metadata": {},
   "outputs": [
    {
     "data": {
      "text/plain": [
       "Date                 0\n",
       "Location             0\n",
       "MinTemp              0\n",
       "MaxTemp              0\n",
       "Rainfall             0\n",
       "Evaporation      44261\n",
       "Sunshine         52071\n",
       "WindGustDir       9330\n",
       "WindGustSpeed     5971\n",
       "WindDir9am       10013\n",
       "WindDir3pm        3778\n",
       "WindSpeed9am         0\n",
       "WindSpeed3pm         0\n",
       "Humidity9am          0\n",
       "Humidity3pm          0\n",
       "Pressure9am      11781\n",
       "Pressure3pm      11781\n",
       "Cloud9am         34034\n",
       "Cloud3pm         34034\n",
       "Temp9am              0\n",
       "Temp3pm              0\n",
       "RainToday         1406\n",
       "RainTomorrow         0\n",
       "dtype: int64"
      ]
     },
     "execution_count": 16,
     "metadata": {},
     "output_type": "execute_result"
    }
   ],
   "source": [
    "weather_df.isnull().sum() ## There are still some nulls. "
   ]
  },
  {
   "cell_type": "raw",
   "id": "3b1e0ac3",
   "metadata": {},
   "source": [
    "Lets look into missing values for Evaporation  "
   ]
  },
  {
   "cell_type": "code",
   "execution_count": 17,
   "id": "80b6ac7d",
   "metadata": {},
   "outputs": [
    {
     "data": {
      "text/plain": [
       "(44261, 23)"
      ]
     },
     "execution_count": 17,
     "metadata": {},
     "output_type": "execute_result"
    }
   ],
   "source": [
    "mask_Eva = weather_df[weather_df['Evaporation'].isna()]\n",
    "mask_Eva.shape"
   ]
  },
  {
   "cell_type": "code",
   "execution_count": 18,
   "id": "9c3bb12b",
   "metadata": {},
   "outputs": [
    {
     "data": {
      "text/plain": [
       "Ballarat         3028\n",
       "Albury           3011\n",
       "Tuggeranong      2998\n",
       "Wollongong       2983\n",
       "GoldCoast        2980\n",
       "Penrith          2964\n",
       "SalmonGums       2955\n",
       "Newcastle        2955\n",
       "Witchcliffe      2952\n",
       "NorahHead        2929\n",
       "BadgerysCreek    2928\n",
       "MountGinini      2907\n",
       "Walpole          2819\n",
       "PearceRAAF       2762\n",
       "Nhil             1569\n",
       "Uluru            1521\n",
       "Name: Location, dtype: int64"
      ]
     },
     "execution_count": 18,
     "metadata": {},
     "output_type": "execute_result"
    }
   ],
   "source": [
    "mask_Eva['Location'].value_counts()  ## Lets look into each one of these cities"
   ]
  },
  {
   "cell_type": "code",
   "execution_count": 19,
   "id": "c5232665",
   "metadata": {},
   "outputs": [
    {
     "name": "stdout",
     "output_type": "stream",
     "text": [
      "<class 'pandas.core.frame.DataFrame'>\n",
      "Int64Index: 3011 entries, 0 to 3039\n",
      "Data columns (total 23 columns):\n",
      " #   Column         Non-Null Count  Dtype         \n",
      "---  ------         --------------  -----         \n",
      " 0   Date           3011 non-null   datetime64[ns]\n",
      " 1   Location       3011 non-null   object        \n",
      " 2   MinTemp        3011 non-null   float64       \n",
      " 3   MaxTemp        3011 non-null   float64       \n",
      " 4   Rainfall       3011 non-null   float64       \n",
      " 5   Evaporation    0 non-null      float64       \n",
      " 6   Sunshine       0 non-null      float64       \n",
      " 7   WindGustDir    3001 non-null   object        \n",
      " 8   WindGustSpeed  3011 non-null   float64       \n",
      " 9   WindDir9am     2494 non-null   object        \n",
      " 10  WindDir3pm     2969 non-null   object        \n",
      " 11  WindSpeed9am   3011 non-null   float64       \n",
      " 12  WindSpeed3pm   3011 non-null   float64       \n",
      " 13  Humidity9am    3011 non-null   float64       \n",
      " 14  Humidity3pm    3011 non-null   float64       \n",
      " 15  Pressure9am    3011 non-null   float64       \n",
      " 16  Pressure3pm    3011 non-null   float64       \n",
      " 17  Cloud9am       3011 non-null   float64       \n",
      " 18  Cloud3pm       3011 non-null   float64       \n",
      " 19  Temp9am        3011 non-null   float64       \n",
      " 20  Temp3pm        3011 non-null   float64       \n",
      " 21  RainToday      2991 non-null   object        \n",
      " 22  RainTomorrow   3011 non-null   object        \n",
      "dtypes: datetime64[ns](1), float64(16), object(6)\n",
      "memory usage: 564.6+ KB\n"
     ]
    }
   ],
   "source": [
    "mask_Alb = weather_df[(weather_df['Location'] == 'Albury')] ## Looks like some cities don't have some values at all\n",
    "mask_Alb.info()"
   ]
  },
  {
   "cell_type": "markdown",
   "id": "2d867dd4",
   "metadata": {},
   "source": [
    " ### Replacing Nulls from near by locations. Mapped these locations using tableau. Please review the link below for mapped locations-\n",
    " ### https://public.tableau.com/views/MetisClassification/Sheet1?:language=en-US&:display_count=n&:origin=viz_share_link "
   ]
  },
  {
   "cell_type": "raw",
   "id": "c9fcb5ce",
   "metadata": {},
   "source": [
    "Replacing Nulls for Albury from WaggaWagga"
   ]
  },
  {
   "cell_type": "code",
   "execution_count": 20,
   "id": "1da60f29",
   "metadata": {},
   "outputs": [
    {
     "data": {
      "text/html": [
       "<div>\n",
       "<style scoped>\n",
       "    .dataframe tbody tr th:only-of-type {\n",
       "        vertical-align: middle;\n",
       "    }\n",
       "\n",
       "    .dataframe tbody tr th {\n",
       "        vertical-align: top;\n",
       "    }\n",
       "\n",
       "    .dataframe thead th {\n",
       "        text-align: right;\n",
       "    }\n",
       "</style>\n",
       "<table border=\"1\" class=\"dataframe\">\n",
       "  <thead>\n",
       "    <tr style=\"text-align: right;\">\n",
       "      <th></th>\n",
       "      <th>Date</th>\n",
       "      <th>Location</th>\n",
       "      <th>MinTemp</th>\n",
       "      <th>MaxTemp</th>\n",
       "      <th>Rainfall</th>\n",
       "      <th>Evaporation</th>\n",
       "      <th>Sunshine</th>\n",
       "      <th>WindGustDir</th>\n",
       "      <th>WindGustSpeed</th>\n",
       "      <th>WindDir9am</th>\n",
       "      <th>...</th>\n",
       "      <th>Humidity9am</th>\n",
       "      <th>Humidity3pm</th>\n",
       "      <th>Pressure9am</th>\n",
       "      <th>Pressure3pm</th>\n",
       "      <th>Cloud9am</th>\n",
       "      <th>Cloud3pm</th>\n",
       "      <th>Temp9am</th>\n",
       "      <th>Temp3pm</th>\n",
       "      <th>RainToday</th>\n",
       "      <th>RainTomorrow</th>\n",
       "    </tr>\n",
       "  </thead>\n",
       "  <tbody>\n",
       "    <tr>\n",
       "      <th>36529</th>\n",
       "      <td>2009-01-01</td>\n",
       "      <td>WaggaWagga</td>\n",
       "      <td>9.9</td>\n",
       "      <td>28.4</td>\n",
       "      <td>0.0</td>\n",
       "      <td>9.8</td>\n",
       "      <td>13.5</td>\n",
       "      <td>WNW</td>\n",
       "      <td>59.0</td>\n",
       "      <td>NW</td>\n",
       "      <td>...</td>\n",
       "      <td>37.0</td>\n",
       "      <td>24.0</td>\n",
       "      <td>1005.2</td>\n",
       "      <td>1003.5</td>\n",
       "      <td>1.0</td>\n",
       "      <td>1.0</td>\n",
       "      <td>20.8</td>\n",
       "      <td>27.0</td>\n",
       "      <td>No</td>\n",
       "      <td>No</td>\n",
       "    </tr>\n",
       "    <tr>\n",
       "      <th>36530</th>\n",
       "      <td>2009-01-02</td>\n",
       "      <td>WaggaWagga</td>\n",
       "      <td>8.9</td>\n",
       "      <td>25.3</td>\n",
       "      <td>0.0</td>\n",
       "      <td>14.8</td>\n",
       "      <td>13.7</td>\n",
       "      <td>WSW</td>\n",
       "      <td>48.0</td>\n",
       "      <td>SW</td>\n",
       "      <td>...</td>\n",
       "      <td>37.0</td>\n",
       "      <td>10.0</td>\n",
       "      <td>1013.9</td>\n",
       "      <td>1012.9</td>\n",
       "      <td>1.0</td>\n",
       "      <td>0.0</td>\n",
       "      <td>14.7</td>\n",
       "      <td>23.2</td>\n",
       "      <td>No</td>\n",
       "      <td>No</td>\n",
       "    </tr>\n",
       "    <tr>\n",
       "      <th>36531</th>\n",
       "      <td>2009-01-03</td>\n",
       "      <td>WaggaWagga</td>\n",
       "      <td>11.0</td>\n",
       "      <td>30.7</td>\n",
       "      <td>0.0</td>\n",
       "      <td>9.8</td>\n",
       "      <td>13.7</td>\n",
       "      <td>NE</td>\n",
       "      <td>39.0</td>\n",
       "      <td>ENE</td>\n",
       "      <td>...</td>\n",
       "      <td>43.0</td>\n",
       "      <td>18.0</td>\n",
       "      <td>1017.8</td>\n",
       "      <td>1014.3</td>\n",
       "      <td>0.0</td>\n",
       "      <td>1.0</td>\n",
       "      <td>18.9</td>\n",
       "      <td>28.0</td>\n",
       "      <td>No</td>\n",
       "      <td>No</td>\n",
       "    </tr>\n",
       "    <tr>\n",
       "      <th>36532</th>\n",
       "      <td>2009-01-04</td>\n",
       "      <td>WaggaWagga</td>\n",
       "      <td>14.7</td>\n",
       "      <td>35.2</td>\n",
       "      <td>0.0</td>\n",
       "      <td>9.4</td>\n",
       "      <td>12.1</td>\n",
       "      <td>N</td>\n",
       "      <td>39.0</td>\n",
       "      <td>NE</td>\n",
       "      <td>...</td>\n",
       "      <td>46.0</td>\n",
       "      <td>19.0</td>\n",
       "      <td>1014.8</td>\n",
       "      <td>1010.6</td>\n",
       "      <td>1.0</td>\n",
       "      <td>4.0</td>\n",
       "      <td>24.7</td>\n",
       "      <td>33.7</td>\n",
       "      <td>No</td>\n",
       "      <td>No</td>\n",
       "    </tr>\n",
       "    <tr>\n",
       "      <th>36533</th>\n",
       "      <td>2009-01-05</td>\n",
       "      <td>WaggaWagga</td>\n",
       "      <td>11.8</td>\n",
       "      <td>36.5</td>\n",
       "      <td>0.0</td>\n",
       "      <td>11.6</td>\n",
       "      <td>13.4</td>\n",
       "      <td>W</td>\n",
       "      <td>43.0</td>\n",
       "      <td>NNE</td>\n",
       "      <td>...</td>\n",
       "      <td>23.0</td>\n",
       "      <td>5.0</td>\n",
       "      <td>1013.1</td>\n",
       "      <td>1009.8</td>\n",
       "      <td>1.0</td>\n",
       "      <td>1.0</td>\n",
       "      <td>23.6</td>\n",
       "      <td>34.6</td>\n",
       "      <td>No</td>\n",
       "      <td>No</td>\n",
       "    </tr>\n",
       "  </tbody>\n",
       "</table>\n",
       "<p>5 rows × 23 columns</p>\n",
       "</div>"
      ],
      "text/plain": [
       "            Date    Location  MinTemp  MaxTemp  Rainfall  Evaporation  \\\n",
       "36529 2009-01-01  WaggaWagga      9.9     28.4       0.0          9.8   \n",
       "36530 2009-01-02  WaggaWagga      8.9     25.3       0.0         14.8   \n",
       "36531 2009-01-03  WaggaWagga     11.0     30.7       0.0          9.8   \n",
       "36532 2009-01-04  WaggaWagga     14.7     35.2       0.0          9.4   \n",
       "36533 2009-01-05  WaggaWagga     11.8     36.5       0.0         11.6   \n",
       "\n",
       "       Sunshine WindGustDir  WindGustSpeed WindDir9am  ... Humidity9am  \\\n",
       "36529      13.5         WNW           59.0         NW  ...        37.0   \n",
       "36530      13.7         WSW           48.0         SW  ...        37.0   \n",
       "36531      13.7          NE           39.0        ENE  ...        43.0   \n",
       "36532      12.1           N           39.0         NE  ...        46.0   \n",
       "36533      13.4           W           43.0        NNE  ...        23.0   \n",
       "\n",
       "       Humidity3pm  Pressure9am  Pressure3pm  Cloud9am  Cloud3pm  Temp9am  \\\n",
       "36529         24.0       1005.2       1003.5       1.0       1.0     20.8   \n",
       "36530         10.0       1013.9       1012.9       1.0       0.0     14.7   \n",
       "36531         18.0       1017.8       1014.3       0.0       1.0     18.9   \n",
       "36532         19.0       1014.8       1010.6       1.0       4.0     24.7   \n",
       "36533          5.0       1013.1       1009.8       1.0       1.0     23.6   \n",
       "\n",
       "       Temp3pm  RainToday  RainTomorrow  \n",
       "36529     27.0         No            No  \n",
       "36530     23.2         No            No  \n",
       "36531     28.0         No            No  \n",
       "36532     33.7         No            No  \n",
       "36533     34.6         No            No  \n",
       "\n",
       "[5 rows x 23 columns]"
      ]
     },
     "execution_count": 20,
     "metadata": {},
     "output_type": "execute_result"
    }
   ],
   "source": [
    "mask_wa = weather_df[(weather_df['Location'] == 'WaggaWagga')] ## Lets replace values from the closest city\n",
    "mask_wa.head()\n",
    "    "
   ]
  },
  {
   "cell_type": "code",
   "execution_count": 21,
   "id": "7c26cea3",
   "metadata": {},
   "outputs": [],
   "source": [
    "mask_wa = mask_wa[['Date', 'Evaporation', 'Sunshine']]"
   ]
  },
  {
   "cell_type": "code",
   "execution_count": 22,
   "id": "1bfb33d5",
   "metadata": {},
   "outputs": [],
   "source": [
    "mask_merged = pd.merge(mask_Alb, \n",
    "                     mask_wa, \n",
    "                     on ='Date', \n",
    "                     how ='left')"
   ]
  },
  {
   "cell_type": "code",
   "execution_count": 23,
   "id": "88948c0a",
   "metadata": {},
   "outputs": [
    {
     "data": {
      "text/html": [
       "<div>\n",
       "<style scoped>\n",
       "    .dataframe tbody tr th:only-of-type {\n",
       "        vertical-align: middle;\n",
       "    }\n",
       "\n",
       "    .dataframe tbody tr th {\n",
       "        vertical-align: top;\n",
       "    }\n",
       "\n",
       "    .dataframe thead th {\n",
       "        text-align: right;\n",
       "    }\n",
       "</style>\n",
       "<table border=\"1\" class=\"dataframe\">\n",
       "  <thead>\n",
       "    <tr style=\"text-align: right;\">\n",
       "      <th></th>\n",
       "      <th>Date</th>\n",
       "      <th>Location</th>\n",
       "      <th>MinTemp</th>\n",
       "      <th>MaxTemp</th>\n",
       "      <th>Rainfall</th>\n",
       "      <th>Evaporation_x</th>\n",
       "      <th>Sunshine_x</th>\n",
       "      <th>WindGustDir</th>\n",
       "      <th>WindGustSpeed</th>\n",
       "      <th>WindDir9am</th>\n",
       "      <th>...</th>\n",
       "      <th>Pressure9am</th>\n",
       "      <th>Pressure3pm</th>\n",
       "      <th>Cloud9am</th>\n",
       "      <th>Cloud3pm</th>\n",
       "      <th>Temp9am</th>\n",
       "      <th>Temp3pm</th>\n",
       "      <th>RainToday</th>\n",
       "      <th>RainTomorrow</th>\n",
       "      <th>Evaporation_y</th>\n",
       "      <th>Sunshine_y</th>\n",
       "    </tr>\n",
       "  </thead>\n",
       "  <tbody>\n",
       "    <tr>\n",
       "      <th>0</th>\n",
       "      <td>2008-12-01</td>\n",
       "      <td>Albury</td>\n",
       "      <td>13.4</td>\n",
       "      <td>22.9</td>\n",
       "      <td>0.6</td>\n",
       "      <td>NaN</td>\n",
       "      <td>NaN</td>\n",
       "      <td>W</td>\n",
       "      <td>44.0</td>\n",
       "      <td>W</td>\n",
       "      <td>...</td>\n",
       "      <td>1007.7</td>\n",
       "      <td>1007.1</td>\n",
       "      <td>8.000000</td>\n",
       "      <td>5.419788</td>\n",
       "      <td>16.9</td>\n",
       "      <td>21.8</td>\n",
       "      <td>No</td>\n",
       "      <td>No</td>\n",
       "      <td>NaN</td>\n",
       "      <td>NaN</td>\n",
       "    </tr>\n",
       "    <tr>\n",
       "      <th>1</th>\n",
       "      <td>2008-12-02</td>\n",
       "      <td>Albury</td>\n",
       "      <td>7.4</td>\n",
       "      <td>25.1</td>\n",
       "      <td>0.0</td>\n",
       "      <td>NaN</td>\n",
       "      <td>NaN</td>\n",
       "      <td>WNW</td>\n",
       "      <td>44.0</td>\n",
       "      <td>NNW</td>\n",
       "      <td>...</td>\n",
       "      <td>1010.6</td>\n",
       "      <td>1007.8</td>\n",
       "      <td>6.392356</td>\n",
       "      <td>5.419788</td>\n",
       "      <td>17.2</td>\n",
       "      <td>24.3</td>\n",
       "      <td>No</td>\n",
       "      <td>No</td>\n",
       "      <td>NaN</td>\n",
       "      <td>NaN</td>\n",
       "    </tr>\n",
       "    <tr>\n",
       "      <th>2</th>\n",
       "      <td>2008-12-03</td>\n",
       "      <td>Albury</td>\n",
       "      <td>12.9</td>\n",
       "      <td>25.7</td>\n",
       "      <td>0.0</td>\n",
       "      <td>NaN</td>\n",
       "      <td>NaN</td>\n",
       "      <td>WSW</td>\n",
       "      <td>46.0</td>\n",
       "      <td>W</td>\n",
       "      <td>...</td>\n",
       "      <td>1007.6</td>\n",
       "      <td>1008.7</td>\n",
       "      <td>6.392356</td>\n",
       "      <td>2.000000</td>\n",
       "      <td>21.0</td>\n",
       "      <td>23.2</td>\n",
       "      <td>No</td>\n",
       "      <td>No</td>\n",
       "      <td>NaN</td>\n",
       "      <td>NaN</td>\n",
       "    </tr>\n",
       "    <tr>\n",
       "      <th>3</th>\n",
       "      <td>2008-12-04</td>\n",
       "      <td>Albury</td>\n",
       "      <td>9.2</td>\n",
       "      <td>28.0</td>\n",
       "      <td>0.0</td>\n",
       "      <td>NaN</td>\n",
       "      <td>NaN</td>\n",
       "      <td>NE</td>\n",
       "      <td>24.0</td>\n",
       "      <td>SE</td>\n",
       "      <td>...</td>\n",
       "      <td>1017.6</td>\n",
       "      <td>1012.8</td>\n",
       "      <td>6.392356</td>\n",
       "      <td>5.419788</td>\n",
       "      <td>18.1</td>\n",
       "      <td>26.5</td>\n",
       "      <td>No</td>\n",
       "      <td>No</td>\n",
       "      <td>NaN</td>\n",
       "      <td>NaN</td>\n",
       "    </tr>\n",
       "    <tr>\n",
       "      <th>4</th>\n",
       "      <td>2008-12-05</td>\n",
       "      <td>Albury</td>\n",
       "      <td>17.5</td>\n",
       "      <td>32.3</td>\n",
       "      <td>1.0</td>\n",
       "      <td>NaN</td>\n",
       "      <td>NaN</td>\n",
       "      <td>W</td>\n",
       "      <td>41.0</td>\n",
       "      <td>ENE</td>\n",
       "      <td>...</td>\n",
       "      <td>1010.8</td>\n",
       "      <td>1006.0</td>\n",
       "      <td>7.000000</td>\n",
       "      <td>8.000000</td>\n",
       "      <td>17.8</td>\n",
       "      <td>29.7</td>\n",
       "      <td>No</td>\n",
       "      <td>No</td>\n",
       "      <td>NaN</td>\n",
       "      <td>NaN</td>\n",
       "    </tr>\n",
       "  </tbody>\n",
       "</table>\n",
       "<p>5 rows × 25 columns</p>\n",
       "</div>"
      ],
      "text/plain": [
       "        Date Location  MinTemp  MaxTemp  Rainfall  Evaporation_x  Sunshine_x  \\\n",
       "0 2008-12-01   Albury     13.4     22.9       0.6            NaN         NaN   \n",
       "1 2008-12-02   Albury      7.4     25.1       0.0            NaN         NaN   \n",
       "2 2008-12-03   Albury     12.9     25.7       0.0            NaN         NaN   \n",
       "3 2008-12-04   Albury      9.2     28.0       0.0            NaN         NaN   \n",
       "4 2008-12-05   Albury     17.5     32.3       1.0            NaN         NaN   \n",
       "\n",
       "  WindGustDir  WindGustSpeed WindDir9am  ... Pressure9am  Pressure3pm  \\\n",
       "0           W           44.0          W  ...      1007.7       1007.1   \n",
       "1         WNW           44.0        NNW  ...      1010.6       1007.8   \n",
       "2         WSW           46.0          W  ...      1007.6       1008.7   \n",
       "3          NE           24.0         SE  ...      1017.6       1012.8   \n",
       "4           W           41.0        ENE  ...      1010.8       1006.0   \n",
       "\n",
       "   Cloud9am  Cloud3pm  Temp9am  Temp3pm  RainToday  RainTomorrow  \\\n",
       "0  8.000000  5.419788     16.9     21.8         No            No   \n",
       "1  6.392356  5.419788     17.2     24.3         No            No   \n",
       "2  6.392356  2.000000     21.0     23.2         No            No   \n",
       "3  6.392356  5.419788     18.1     26.5         No            No   \n",
       "4  7.000000  8.000000     17.8     29.7         No            No   \n",
       "\n",
       "   Evaporation_y  Sunshine_y  \n",
       "0            NaN         NaN  \n",
       "1            NaN         NaN  \n",
       "2            NaN         NaN  \n",
       "3            NaN         NaN  \n",
       "4            NaN         NaN  \n",
       "\n",
       "[5 rows x 25 columns]"
      ]
     },
     "execution_count": 23,
     "metadata": {},
     "output_type": "execute_result"
    }
   ],
   "source": [
    "mask_merged.head()"
   ]
  },
  {
   "cell_type": "code",
   "execution_count": 24,
   "id": "9388b759",
   "metadata": {},
   "outputs": [],
   "source": [
    "mask_merged = mask_merged.drop(['Evaporation_x', 'Sunshine_x'], axis = 1)"
   ]
  },
  {
   "cell_type": "code",
   "execution_count": 25,
   "id": "3a4ad8e6",
   "metadata": {},
   "outputs": [],
   "source": [
    "mask_merged.rename(columns={\"Evaporation_y\": \"Evaporation\", \"Sunshine_y\": \"Sunshine\"}, inplace = True)"
   ]
  },
  {
   "cell_type": "code",
   "execution_count": 26,
   "id": "d5f4f5b2",
   "metadata": {},
   "outputs": [
    {
     "data": {
      "text/plain": [
       "Index(['Date', 'Location', 'MinTemp', 'MaxTemp', 'Rainfall', 'WindGustDir',\n",
       "       'WindGustSpeed', 'WindDir9am', 'WindDir3pm', 'WindSpeed9am',\n",
       "       'WindSpeed3pm', 'Humidity9am', 'Humidity3pm', 'Pressure9am',\n",
       "       'Pressure3pm', 'Cloud9am', 'Cloud3pm', 'Temp9am', 'Temp3pm',\n",
       "       'RainToday', 'RainTomorrow', 'Evaporation', 'Sunshine'],\n",
       "      dtype='object')"
      ]
     },
     "execution_count": 26,
     "metadata": {},
     "output_type": "execute_result"
    }
   ],
   "source": [
    "mask_merged.columns"
   ]
  },
  {
   "cell_type": "code",
   "execution_count": 27,
   "id": "e973ef78",
   "metadata": {},
   "outputs": [],
   "source": [
    "mask_merged = mask_merged[['Date', 'Location', 'MinTemp', 'MaxTemp', \n",
    "                          'Rainfall', 'Evaporation', 'Sunshine','WindGustDir', \n",
    "                          'WindGustSpeed', 'WindDir9am', 'WindDir3pm', 'WindSpeed9am',\n",
    "                          'WindSpeed3pm', 'Humidity9am', 'Humidity3pm', 'Pressure9am',\n",
    "                          'Pressure3pm', 'Cloud9am', 'Cloud3pm', 'Temp9am', 'Temp3pm', 'RainToday', 'RainTomorrow']]"
   ]
  },
  {
   "cell_type": "code",
   "execution_count": 28,
   "id": "0b8308d8",
   "metadata": {},
   "outputs": [],
   "source": [
    "weather_df = weather_df [weather_df [\"Location\"] != 'Albury']\n"
   ]
  },
  {
   "cell_type": "code",
   "execution_count": 29,
   "id": "2cd477a0",
   "metadata": {},
   "outputs": [],
   "source": [
    "weather_df = weather_df.append(mask_merged)\n"
   ]
  },
  {
   "cell_type": "code",
   "execution_count": 30,
   "id": "63251664",
   "metadata": {},
   "outputs": [
    {
     "data": {
      "text/html": [
       "<div>\n",
       "<style scoped>\n",
       "    .dataframe tbody tr th:only-of-type {\n",
       "        vertical-align: middle;\n",
       "    }\n",
       "\n",
       "    .dataframe tbody tr th {\n",
       "        vertical-align: top;\n",
       "    }\n",
       "\n",
       "    .dataframe thead th {\n",
       "        text-align: right;\n",
       "    }\n",
       "</style>\n",
       "<table border=\"1\" class=\"dataframe\">\n",
       "  <thead>\n",
       "    <tr style=\"text-align: right;\">\n",
       "      <th></th>\n",
       "      <th>MinTemp</th>\n",
       "      <th>MaxTemp</th>\n",
       "      <th>Rainfall</th>\n",
       "      <th>Evaporation</th>\n",
       "      <th>Sunshine</th>\n",
       "      <th>WindGustSpeed</th>\n",
       "      <th>WindSpeed9am</th>\n",
       "      <th>WindSpeed3pm</th>\n",
       "      <th>Humidity9am</th>\n",
       "      <th>Humidity3pm</th>\n",
       "      <th>Pressure9am</th>\n",
       "      <th>Pressure3pm</th>\n",
       "      <th>Cloud9am</th>\n",
       "      <th>Cloud3pm</th>\n",
       "      <th>Temp9am</th>\n",
       "      <th>Temp3pm</th>\n",
       "    </tr>\n",
       "  </thead>\n",
       "  <tbody>\n",
       "    <tr>\n",
       "      <th>count</th>\n",
       "      <td>3011.000000</td>\n",
       "      <td>3011.000000</td>\n",
       "      <td>3011.000000</td>\n",
       "      <td>2948.000000</td>\n",
       "      <td>2948.000000</td>\n",
       "      <td>3011.000000</td>\n",
       "      <td>3011.000000</td>\n",
       "      <td>3011.000000</td>\n",
       "      <td>3011.000000</td>\n",
       "      <td>3011.000000</td>\n",
       "      <td>3011.000000</td>\n",
       "      <td>3011.000000</td>\n",
       "      <td>3011.000000</td>\n",
       "      <td>3011.000000</td>\n",
       "      <td>3011.000000</td>\n",
       "      <td>3011.000000</td>\n",
       "    </tr>\n",
       "    <tr>\n",
       "      <th>mean</th>\n",
       "      <td>9.520899</td>\n",
       "      <td>22.630963</td>\n",
       "      <td>1.925710</td>\n",
       "      <td>5.161617</td>\n",
       "      <td>8.192657</td>\n",
       "      <td>32.953016</td>\n",
       "      <td>8.221816</td>\n",
       "      <td>14.378828</td>\n",
       "      <td>74.108081</td>\n",
       "      <td>47.884935</td>\n",
       "      <td>1018.367253</td>\n",
       "      <td>1015.755504</td>\n",
       "      <td>6.392356</td>\n",
       "      <td>5.419788</td>\n",
       "      <td>14.348620</td>\n",
       "      <td>21.364716</td>\n",
       "    </tr>\n",
       "    <tr>\n",
       "      <th>std</th>\n",
       "      <td>6.055983</td>\n",
       "      <td>7.795433</td>\n",
       "      <td>6.228257</td>\n",
       "      <td>4.104997</td>\n",
       "      <td>3.727625</td>\n",
       "      <td>13.339950</td>\n",
       "      <td>6.740049</td>\n",
       "      <td>7.188374</td>\n",
       "      <td>17.426103</td>\n",
       "      <td>19.819855</td>\n",
       "      <td>7.361457</td>\n",
       "      <td>7.107066</td>\n",
       "      <td>1.557923</td>\n",
       "      <td>1.938133</td>\n",
       "      <td>6.368901</td>\n",
       "      <td>7.520477</td>\n",
       "    </tr>\n",
       "    <tr>\n",
       "      <th>min</th>\n",
       "      <td>-2.800000</td>\n",
       "      <td>6.800000</td>\n",
       "      <td>0.000000</td>\n",
       "      <td>0.000000</td>\n",
       "      <td>0.000000</td>\n",
       "      <td>9.000000</td>\n",
       "      <td>0.000000</td>\n",
       "      <td>0.000000</td>\n",
       "      <td>18.000000</td>\n",
       "      <td>7.000000</td>\n",
       "      <td>989.800000</td>\n",
       "      <td>982.900000</td>\n",
       "      <td>0.000000</td>\n",
       "      <td>1.000000</td>\n",
       "      <td>0.300000</td>\n",
       "      <td>6.400000</td>\n",
       "    </tr>\n",
       "    <tr>\n",
       "      <th>25%</th>\n",
       "      <td>4.700000</td>\n",
       "      <td>15.800000</td>\n",
       "      <td>0.000000</td>\n",
       "      <td>2.000000</td>\n",
       "      <td>6.200000</td>\n",
       "      <td>24.000000</td>\n",
       "      <td>4.000000</td>\n",
       "      <td>9.000000</td>\n",
       "      <td>61.000000</td>\n",
       "      <td>33.000000</td>\n",
       "      <td>1013.400000</td>\n",
       "      <td>1010.700000</td>\n",
       "      <td>6.392356</td>\n",
       "      <td>5.419788</td>\n",
       "      <td>9.200000</td>\n",
       "      <td>14.900000</td>\n",
       "    </tr>\n",
       "    <tr>\n",
       "      <th>50%</th>\n",
       "      <td>9.100000</td>\n",
       "      <td>21.900000</td>\n",
       "      <td>0.000000</td>\n",
       "      <td>4.200000</td>\n",
       "      <td>8.400000</td>\n",
       "      <td>31.000000</td>\n",
       "      <td>7.000000</td>\n",
       "      <td>13.000000</td>\n",
       "      <td>76.000000</td>\n",
       "      <td>47.000000</td>\n",
       "      <td>1018.400000</td>\n",
       "      <td>1015.600000</td>\n",
       "      <td>6.392356</td>\n",
       "      <td>5.419788</td>\n",
       "      <td>14.100000</td>\n",
       "      <td>20.600000</td>\n",
       "    </tr>\n",
       "    <tr>\n",
       "      <th>75%</th>\n",
       "      <td>14.300000</td>\n",
       "      <td>28.900000</td>\n",
       "      <td>0.400000</td>\n",
       "      <td>7.800000</td>\n",
       "      <td>11.000000</td>\n",
       "      <td>41.000000</td>\n",
       "      <td>11.000000</td>\n",
       "      <td>19.000000</td>\n",
       "      <td>88.000000</td>\n",
       "      <td>60.500000</td>\n",
       "      <td>1023.300000</td>\n",
       "      <td>1020.500000</td>\n",
       "      <td>7.000000</td>\n",
       "      <td>6.000000</td>\n",
       "      <td>19.300000</td>\n",
       "      <td>27.200000</td>\n",
       "    </tr>\n",
       "    <tr>\n",
       "      <th>max</th>\n",
       "      <td>28.300000</td>\n",
       "      <td>44.800000</td>\n",
       "      <td>104.200000</td>\n",
       "      <td>39.400000</td>\n",
       "      <td>14.100000</td>\n",
       "      <td>107.000000</td>\n",
       "      <td>37.000000</td>\n",
       "      <td>50.000000</td>\n",
       "      <td>100.000000</td>\n",
       "      <td>100.000000</td>\n",
       "      <td>1039.900000</td>\n",
       "      <td>1036.100000</td>\n",
       "      <td>8.000000</td>\n",
       "      <td>8.000000</td>\n",
       "      <td>34.500000</td>\n",
       "      <td>43.400000</td>\n",
       "    </tr>\n",
       "  </tbody>\n",
       "</table>\n",
       "</div>"
      ],
      "text/plain": [
       "           MinTemp      MaxTemp     Rainfall  Evaporation     Sunshine  \\\n",
       "count  3011.000000  3011.000000  3011.000000  2948.000000  2948.000000   \n",
       "mean      9.520899    22.630963     1.925710     5.161617     8.192657   \n",
       "std       6.055983     7.795433     6.228257     4.104997     3.727625   \n",
       "min      -2.800000     6.800000     0.000000     0.000000     0.000000   \n",
       "25%       4.700000    15.800000     0.000000     2.000000     6.200000   \n",
       "50%       9.100000    21.900000     0.000000     4.200000     8.400000   \n",
       "75%      14.300000    28.900000     0.400000     7.800000    11.000000   \n",
       "max      28.300000    44.800000   104.200000    39.400000    14.100000   \n",
       "\n",
       "       WindGustSpeed  WindSpeed9am  WindSpeed3pm  Humidity9am  Humidity3pm  \\\n",
       "count    3011.000000   3011.000000   3011.000000  3011.000000  3011.000000   \n",
       "mean       32.953016      8.221816     14.378828    74.108081    47.884935   \n",
       "std        13.339950      6.740049      7.188374    17.426103    19.819855   \n",
       "min         9.000000      0.000000      0.000000    18.000000     7.000000   \n",
       "25%        24.000000      4.000000      9.000000    61.000000    33.000000   \n",
       "50%        31.000000      7.000000     13.000000    76.000000    47.000000   \n",
       "75%        41.000000     11.000000     19.000000    88.000000    60.500000   \n",
       "max       107.000000     37.000000     50.000000   100.000000   100.000000   \n",
       "\n",
       "       Pressure9am  Pressure3pm     Cloud9am     Cloud3pm      Temp9am  \\\n",
       "count  3011.000000  3011.000000  3011.000000  3011.000000  3011.000000   \n",
       "mean   1018.367253  1015.755504     6.392356     5.419788    14.348620   \n",
       "std       7.361457     7.107066     1.557923     1.938133     6.368901   \n",
       "min     989.800000   982.900000     0.000000     1.000000     0.300000   \n",
       "25%    1013.400000  1010.700000     6.392356     5.419788     9.200000   \n",
       "50%    1018.400000  1015.600000     6.392356     5.419788    14.100000   \n",
       "75%    1023.300000  1020.500000     7.000000     6.000000    19.300000   \n",
       "max    1039.900000  1036.100000     8.000000     8.000000    34.500000   \n",
       "\n",
       "           Temp3pm  \n",
       "count  3011.000000  \n",
       "mean     21.364716  \n",
       "std       7.520477  \n",
       "min       6.400000  \n",
       "25%      14.900000  \n",
       "50%      20.600000  \n",
       "75%      27.200000  \n",
       "max      43.400000  "
      ]
     },
     "execution_count": 30,
     "metadata": {},
     "output_type": "execute_result"
    }
   ],
   "source": [
    "mask = weather_df[(weather_df['Location'] == 'Albury')] ## Values replaced with closest city\n",
    "mask.describe()"
   ]
  },
  {
   "cell_type": "code",
   "execution_count": 31,
   "id": "7c99826d",
   "metadata": {},
   "outputs": [
    {
     "data": {
      "text/plain": [
       "Ballarat         3028\n",
       "Tuggeranong      2998\n",
       "Wollongong       2983\n",
       "GoldCoast        2980\n",
       "Penrith          2964\n",
       "SalmonGums       2955\n",
       "Newcastle        2955\n",
       "Witchcliffe      2952\n",
       "NorahHead        2929\n",
       "BadgerysCreek    2928\n",
       "MountGinini      2907\n",
       "Walpole          2819\n",
       "PearceRAAF       2762\n",
       "Nhil             1569\n",
       "Uluru            1521\n",
       "Albury             63\n",
       "Name: Location, dtype: int64"
      ]
     },
     "execution_count": 31,
     "metadata": {},
     "output_type": "execute_result"
    }
   ],
   "source": [
    "remaining_nulls = weather_df[weather_df['Evaporation'].isna()]\n",
    "remaining_nulls['Location'].value_counts()"
   ]
  },
  {
   "cell_type": "raw",
   "id": "ef8c00a3",
   "metadata": {},
   "source": [
    "List of Cities and their closest locations to replace nulls\n",
    "\n",
    "Ballarat ---> Melbourne\n",
    "Nhil-----> Melbourne\n",
    "Bendigo ---> Melbourne\n",
    "Tuggeranong ----> canberra\n",
    "Wollongong ---> Sydney\n",
    "Penrith ----> Sydney\n",
    "BadgerysCreek ----> Sydney\n",
    "Newcastle ----> Syndey\n",
    "NorahHead ---> Sydney\n",
    "GoldCoast---> Brisbane\n",
    "Witchcliffe -----> Albany\n",
    "Walpole ----> Albany\n",
    "MountGinini ---> canberra\n",
    "PearceRAAF---> Perth\n",
    "Uluru -----> Alice Springs\n",
    "drop SalmonGums"
   ]
  },
  {
   "cell_type": "markdown",
   "id": "20ad479f",
   "metadata": {},
   "source": [
    "### Replacing Nulls for Ballarat from Melbourne"
   ]
  },
  {
   "cell_type": "code",
   "execution_count": 32,
   "id": "814f643e",
   "metadata": {},
   "outputs": [
    {
     "data": {
      "text/html": [
       "<div>\n",
       "<style scoped>\n",
       "    .dataframe tbody tr th:only-of-type {\n",
       "        vertical-align: middle;\n",
       "    }\n",
       "\n",
       "    .dataframe tbody tr th {\n",
       "        vertical-align: top;\n",
       "    }\n",
       "\n",
       "    .dataframe thead th {\n",
       "        text-align: right;\n",
       "    }\n",
       "</style>\n",
       "<table border=\"1\" class=\"dataframe\">\n",
       "  <thead>\n",
       "    <tr style=\"text-align: right;\">\n",
       "      <th></th>\n",
       "      <th>MinTemp</th>\n",
       "      <th>MaxTemp</th>\n",
       "      <th>Rainfall</th>\n",
       "      <th>Evaporation</th>\n",
       "      <th>Sunshine</th>\n",
       "      <th>WindGustSpeed</th>\n",
       "      <th>WindSpeed9am</th>\n",
       "      <th>WindSpeed3pm</th>\n",
       "      <th>Humidity9am</th>\n",
       "      <th>Humidity3pm</th>\n",
       "      <th>Pressure9am</th>\n",
       "      <th>Pressure3pm</th>\n",
       "      <th>Cloud9am</th>\n",
       "      <th>Cloud3pm</th>\n",
       "      <th>Temp9am</th>\n",
       "      <th>Temp3pm</th>\n",
       "    </tr>\n",
       "  </thead>\n",
       "  <tbody>\n",
       "    <tr>\n",
       "      <th>count</th>\n",
       "      <td>3028.000000</td>\n",
       "      <td>3028.000000</td>\n",
       "      <td>3028.00000</td>\n",
       "      <td>0.0</td>\n",
       "      <td>0.0</td>\n",
       "      <td>3028.000000</td>\n",
       "      <td>3028.000000</td>\n",
       "      <td>3028.000000</td>\n",
       "      <td>3028.000000</td>\n",
       "      <td>3028.000000</td>\n",
       "      <td>3028.000000</td>\n",
       "      <td>3028.000000</td>\n",
       "      <td>3028.000000</td>\n",
       "      <td>3028.000000</td>\n",
       "      <td>3028.000000</td>\n",
       "      <td>3028.000000</td>\n",
       "    </tr>\n",
       "    <tr>\n",
       "      <th>mean</th>\n",
       "      <td>7.355302</td>\n",
       "      <td>18.274794</td>\n",
       "      <td>1.68883</td>\n",
       "      <td>NaN</td>\n",
       "      <td>NaN</td>\n",
       "      <td>44.978695</td>\n",
       "      <td>19.978477</td>\n",
       "      <td>22.780496</td>\n",
       "      <td>81.816428</td>\n",
       "      <td>59.045665</td>\n",
       "      <td>1017.855293</td>\n",
       "      <td>1016.274967</td>\n",
       "      <td>5.797101</td>\n",
       "      <td>6.286865</td>\n",
       "      <td>11.664125</td>\n",
       "      <td>16.776447</td>\n",
       "    </tr>\n",
       "    <tr>\n",
       "      <th>std</th>\n",
       "      <td>4.715815</td>\n",
       "      <td>7.190079</td>\n",
       "      <td>4.66672</td>\n",
       "      <td>NaN</td>\n",
       "      <td>NaN</td>\n",
       "      <td>12.927291</td>\n",
       "      <td>9.437213</td>\n",
       "      <td>9.233674</td>\n",
       "      <td>18.637029</td>\n",
       "      <td>22.579374</td>\n",
       "      <td>7.581037</td>\n",
       "      <td>7.420113</td>\n",
       "      <td>2.381221</td>\n",
       "      <td>1.975610</td>\n",
       "      <td>5.361446</td>\n",
       "      <td>6.997681</td>\n",
       "    </tr>\n",
       "    <tr>\n",
       "      <th>min</th>\n",
       "      <td>-5.600000</td>\n",
       "      <td>4.600000</td>\n",
       "      <td>0.00000</td>\n",
       "      <td>NaN</td>\n",
       "      <td>NaN</td>\n",
       "      <td>13.000000</td>\n",
       "      <td>0.000000</td>\n",
       "      <td>0.000000</td>\n",
       "      <td>9.000000</td>\n",
       "      <td>6.000000</td>\n",
       "      <td>989.400000</td>\n",
       "      <td>987.300000</td>\n",
       "      <td>0.000000</td>\n",
       "      <td>0.000000</td>\n",
       "      <td>-1.000000</td>\n",
       "      <td>1.700000</td>\n",
       "    </tr>\n",
       "    <tr>\n",
       "      <th>25%</th>\n",
       "      <td>4.200000</td>\n",
       "      <td>12.300000</td>\n",
       "      <td>0.00000</td>\n",
       "      <td>NaN</td>\n",
       "      <td>NaN</td>\n",
       "      <td>37.000000</td>\n",
       "      <td>13.000000</td>\n",
       "      <td>17.000000</td>\n",
       "      <td>71.000000</td>\n",
       "      <td>42.000000</td>\n",
       "      <td>1012.900000</td>\n",
       "      <td>1011.475000</td>\n",
       "      <td>5.000000</td>\n",
       "      <td>6.286865</td>\n",
       "      <td>7.700000</td>\n",
       "      <td>11.000000</td>\n",
       "    </tr>\n",
       "    <tr>\n",
       "      <th>50%</th>\n",
       "      <td>7.000000</td>\n",
       "      <td>16.800000</td>\n",
       "      <td>0.00000</td>\n",
       "      <td>NaN</td>\n",
       "      <td>NaN</td>\n",
       "      <td>44.000000</td>\n",
       "      <td>20.000000</td>\n",
       "      <td>22.000000</td>\n",
       "      <td>86.000000</td>\n",
       "      <td>59.000000</td>\n",
       "      <td>1017.900000</td>\n",
       "      <td>1016.300000</td>\n",
       "      <td>6.000000</td>\n",
       "      <td>6.286865</td>\n",
       "      <td>10.800000</td>\n",
       "      <td>15.400000</td>\n",
       "    </tr>\n",
       "    <tr>\n",
       "      <th>75%</th>\n",
       "      <td>10.300000</td>\n",
       "      <td>23.300000</td>\n",
       "      <td>1.20000</td>\n",
       "      <td>NaN</td>\n",
       "      <td>NaN</td>\n",
       "      <td>52.000000</td>\n",
       "      <td>26.000000</td>\n",
       "      <td>28.000000</td>\n",
       "      <td>98.000000</td>\n",
       "      <td>75.000000</td>\n",
       "      <td>1023.000000</td>\n",
       "      <td>1021.300000</td>\n",
       "      <td>8.000000</td>\n",
       "      <td>8.000000</td>\n",
       "      <td>14.600000</td>\n",
       "      <td>21.500000</td>\n",
       "    </tr>\n",
       "    <tr>\n",
       "      <th>max</th>\n",
       "      <td>25.100000</td>\n",
       "      <td>44.100000</td>\n",
       "      <td>58.60000</td>\n",
       "      <td>NaN</td>\n",
       "      <td>NaN</td>\n",
       "      <td>115.000000</td>\n",
       "      <td>56.000000</td>\n",
       "      <td>65.000000</td>\n",
       "      <td>100.000000</td>\n",
       "      <td>100.000000</td>\n",
       "      <td>1039.500000</td>\n",
       "      <td>1036.300000</td>\n",
       "      <td>8.000000</td>\n",
       "      <td>8.000000</td>\n",
       "      <td>34.100000</td>\n",
       "      <td>43.100000</td>\n",
       "    </tr>\n",
       "  </tbody>\n",
       "</table>\n",
       "</div>"
      ],
      "text/plain": [
       "           MinTemp      MaxTemp    Rainfall  Evaporation  Sunshine  \\\n",
       "count  3028.000000  3028.000000  3028.00000          0.0       0.0   \n",
       "mean      7.355302    18.274794     1.68883          NaN       NaN   \n",
       "std       4.715815     7.190079     4.66672          NaN       NaN   \n",
       "min      -5.600000     4.600000     0.00000          NaN       NaN   \n",
       "25%       4.200000    12.300000     0.00000          NaN       NaN   \n",
       "50%       7.000000    16.800000     0.00000          NaN       NaN   \n",
       "75%      10.300000    23.300000     1.20000          NaN       NaN   \n",
       "max      25.100000    44.100000    58.60000          NaN       NaN   \n",
       "\n",
       "       WindGustSpeed  WindSpeed9am  WindSpeed3pm  Humidity9am  Humidity3pm  \\\n",
       "count    3028.000000   3028.000000   3028.000000  3028.000000  3028.000000   \n",
       "mean       44.978695     19.978477     22.780496    81.816428    59.045665   \n",
       "std        12.927291      9.437213      9.233674    18.637029    22.579374   \n",
       "min        13.000000      0.000000      0.000000     9.000000     6.000000   \n",
       "25%        37.000000     13.000000     17.000000    71.000000    42.000000   \n",
       "50%        44.000000     20.000000     22.000000    86.000000    59.000000   \n",
       "75%        52.000000     26.000000     28.000000    98.000000    75.000000   \n",
       "max       115.000000     56.000000     65.000000   100.000000   100.000000   \n",
       "\n",
       "       Pressure9am  Pressure3pm     Cloud9am     Cloud3pm      Temp9am  \\\n",
       "count  3028.000000  3028.000000  3028.000000  3028.000000  3028.000000   \n",
       "mean   1017.855293  1016.274967     5.797101     6.286865    11.664125   \n",
       "std       7.581037     7.420113     2.381221     1.975610     5.361446   \n",
       "min     989.400000   987.300000     0.000000     0.000000    -1.000000   \n",
       "25%    1012.900000  1011.475000     5.000000     6.286865     7.700000   \n",
       "50%    1017.900000  1016.300000     6.000000     6.286865    10.800000   \n",
       "75%    1023.000000  1021.300000     8.000000     8.000000    14.600000   \n",
       "max    1039.500000  1036.300000     8.000000     8.000000    34.100000   \n",
       "\n",
       "           Temp3pm  \n",
       "count  3028.000000  \n",
       "mean     16.776447  \n",
       "std       6.997681  \n",
       "min       1.700000  \n",
       "25%      11.000000  \n",
       "50%      15.400000  \n",
       "75%      21.500000  \n",
       "max      43.100000  "
      ]
     },
     "execution_count": 32,
     "metadata": {},
     "output_type": "execute_result"
    }
   ],
   "source": [
    "mask_Bal = weather_df[(weather_df['Location'] == 'Ballarat')] \n",
    "mask_Bal.describe()"
   ]
  },
  {
   "cell_type": "code",
   "execution_count": 33,
   "id": "e09ecefc",
   "metadata": {},
   "outputs": [],
   "source": [
    "mask_Mel = weather_df[(weather_df['Location'] == 'Melbourne')] ## Lets replace values from the closest city\n"
   ]
  },
  {
   "cell_type": "code",
   "execution_count": 34,
   "id": "f4222f5e",
   "metadata": {},
   "outputs": [
    {
     "data": {
      "text/html": [
       "<div>\n",
       "<style scoped>\n",
       "    .dataframe tbody tr th:only-of-type {\n",
       "        vertical-align: middle;\n",
       "    }\n",
       "\n",
       "    .dataframe tbody tr th {\n",
       "        vertical-align: top;\n",
       "    }\n",
       "\n",
       "    .dataframe thead th {\n",
       "        text-align: right;\n",
       "    }\n",
       "</style>\n",
       "<table border=\"1\" class=\"dataframe\">\n",
       "  <thead>\n",
       "    <tr style=\"text-align: right;\">\n",
       "      <th></th>\n",
       "      <th>MinTemp</th>\n",
       "      <th>MaxTemp</th>\n",
       "      <th>Rainfall</th>\n",
       "      <th>Evaporation</th>\n",
       "      <th>Sunshine</th>\n",
       "      <th>WindGustSpeed</th>\n",
       "      <th>WindSpeed9am</th>\n",
       "      <th>WindSpeed3pm</th>\n",
       "      <th>Humidity9am</th>\n",
       "      <th>Humidity3pm</th>\n",
       "      <th>Pressure9am</th>\n",
       "      <th>Pressure3pm</th>\n",
       "      <th>Cloud9am</th>\n",
       "      <th>Cloud3pm</th>\n",
       "      <th>Temp9am</th>\n",
       "      <th>Temp3pm</th>\n",
       "    </tr>\n",
       "  </thead>\n",
       "  <tbody>\n",
       "    <tr>\n",
       "      <th>count</th>\n",
       "      <td>1569.000000</td>\n",
       "      <td>1569.000000</td>\n",
       "      <td>1569.000000</td>\n",
       "      <td>0.0</td>\n",
       "      <td>0.0</td>\n",
       "      <td>1569.000000</td>\n",
       "      <td>1569.000000</td>\n",
       "      <td>1569.000000</td>\n",
       "      <td>1569.000000</td>\n",
       "      <td>1569.000000</td>\n",
       "      <td>1569.000000</td>\n",
       "      <td>1569.000000</td>\n",
       "      <td>0.0</td>\n",
       "      <td>0.0</td>\n",
       "      <td>1569.000000</td>\n",
       "      <td>1569.000000</td>\n",
       "    </tr>\n",
       "    <tr>\n",
       "      <th>mean</th>\n",
       "      <td>8.992798</td>\n",
       "      <td>22.398407</td>\n",
       "      <td>0.932907</td>\n",
       "      <td>NaN</td>\n",
       "      <td>NaN</td>\n",
       "      <td>42.542438</td>\n",
       "      <td>16.443595</td>\n",
       "      <td>20.956023</td>\n",
       "      <td>73.038241</td>\n",
       "      <td>44.924793</td>\n",
       "      <td>1018.546335</td>\n",
       "      <td>1016.401402</td>\n",
       "      <td>NaN</td>\n",
       "      <td>NaN</td>\n",
       "      <td>13.377693</td>\n",
       "      <td>20.866348</td>\n",
       "    </tr>\n",
       "    <tr>\n",
       "      <th>std</th>\n",
       "      <td>5.108704</td>\n",
       "      <td>7.700793</td>\n",
       "      <td>3.243254</td>\n",
       "      <td>NaN</td>\n",
       "      <td>NaN</td>\n",
       "      <td>13.826432</td>\n",
       "      <td>7.999731</td>\n",
       "      <td>9.684499</td>\n",
       "      <td>20.056071</td>\n",
       "      <td>21.077165</td>\n",
       "      <td>7.543523</td>\n",
       "      <td>7.334483</td>\n",
       "      <td>NaN</td>\n",
       "      <td>NaN</td>\n",
       "      <td>5.666358</td>\n",
       "      <td>7.321608</td>\n",
       "    </tr>\n",
       "    <tr>\n",
       "      <th>min</th>\n",
       "      <td>-2.300000</td>\n",
       "      <td>8.600000</td>\n",
       "      <td>0.000000</td>\n",
       "      <td>NaN</td>\n",
       "      <td>NaN</td>\n",
       "      <td>13.000000</td>\n",
       "      <td>0.000000</td>\n",
       "      <td>2.000000</td>\n",
       "      <td>13.000000</td>\n",
       "      <td>7.000000</td>\n",
       "      <td>986.900000</td>\n",
       "      <td>982.600000</td>\n",
       "      <td>NaN</td>\n",
       "      <td>NaN</td>\n",
       "      <td>-0.200000</td>\n",
       "      <td>7.300000</td>\n",
       "    </tr>\n",
       "    <tr>\n",
       "      <th>25%</th>\n",
       "      <td>5.400000</td>\n",
       "      <td>15.900000</td>\n",
       "      <td>0.000000</td>\n",
       "      <td>NaN</td>\n",
       "      <td>NaN</td>\n",
       "      <td>33.000000</td>\n",
       "      <td>11.000000</td>\n",
       "      <td>13.000000</td>\n",
       "      <td>60.000000</td>\n",
       "      <td>28.000000</td>\n",
       "      <td>1013.500000</td>\n",
       "      <td>1011.500000</td>\n",
       "      <td>NaN</td>\n",
       "      <td>NaN</td>\n",
       "      <td>9.300000</td>\n",
       "      <td>14.700000</td>\n",
       "    </tr>\n",
       "    <tr>\n",
       "      <th>50%</th>\n",
       "      <td>8.400000</td>\n",
       "      <td>21.300000</td>\n",
       "      <td>0.000000</td>\n",
       "      <td>NaN</td>\n",
       "      <td>NaN</td>\n",
       "      <td>41.000000</td>\n",
       "      <td>17.000000</td>\n",
       "      <td>20.000000</td>\n",
       "      <td>76.000000</td>\n",
       "      <td>43.000000</td>\n",
       "      <td>1018.500000</td>\n",
       "      <td>1016.400000</td>\n",
       "      <td>NaN</td>\n",
       "      <td>NaN</td>\n",
       "      <td>12.700000</td>\n",
       "      <td>19.700000</td>\n",
       "    </tr>\n",
       "    <tr>\n",
       "      <th>75%</th>\n",
       "      <td>12.200000</td>\n",
       "      <td>27.800000</td>\n",
       "      <td>0.200000</td>\n",
       "      <td>NaN</td>\n",
       "      <td>NaN</td>\n",
       "      <td>50.000000</td>\n",
       "      <td>20.000000</td>\n",
       "      <td>26.000000</td>\n",
       "      <td>90.000000</td>\n",
       "      <td>59.000000</td>\n",
       "      <td>1023.600000</td>\n",
       "      <td>1021.300000</td>\n",
       "      <td>NaN</td>\n",
       "      <td>NaN</td>\n",
       "      <td>16.400000</td>\n",
       "      <td>25.600000</td>\n",
       "    </tr>\n",
       "    <tr>\n",
       "      <th>max</th>\n",
       "      <td>29.400000</td>\n",
       "      <td>45.300000</td>\n",
       "      <td>65.600000</td>\n",
       "      <td>NaN</td>\n",
       "      <td>NaN</td>\n",
       "      <td>120.000000</td>\n",
       "      <td>48.000000</td>\n",
       "      <td>65.000000</td>\n",
       "      <td>100.000000</td>\n",
       "      <td>100.000000</td>\n",
       "      <td>1038.500000</td>\n",
       "      <td>1036.300000</td>\n",
       "      <td>NaN</td>\n",
       "      <td>NaN</td>\n",
       "      <td>35.100000</td>\n",
       "      <td>43.200000</td>\n",
       "    </tr>\n",
       "  </tbody>\n",
       "</table>\n",
       "</div>"
      ],
      "text/plain": [
       "           MinTemp      MaxTemp     Rainfall  Evaporation  Sunshine  \\\n",
       "count  1569.000000  1569.000000  1569.000000          0.0       0.0   \n",
       "mean      8.992798    22.398407     0.932907          NaN       NaN   \n",
       "std       5.108704     7.700793     3.243254          NaN       NaN   \n",
       "min      -2.300000     8.600000     0.000000          NaN       NaN   \n",
       "25%       5.400000    15.900000     0.000000          NaN       NaN   \n",
       "50%       8.400000    21.300000     0.000000          NaN       NaN   \n",
       "75%      12.200000    27.800000     0.200000          NaN       NaN   \n",
       "max      29.400000    45.300000    65.600000          NaN       NaN   \n",
       "\n",
       "       WindGustSpeed  WindSpeed9am  WindSpeed3pm  Humidity9am  Humidity3pm  \\\n",
       "count    1569.000000   1569.000000   1569.000000  1569.000000  1569.000000   \n",
       "mean       42.542438     16.443595     20.956023    73.038241    44.924793   \n",
       "std        13.826432      7.999731      9.684499    20.056071    21.077165   \n",
       "min        13.000000      0.000000      2.000000    13.000000     7.000000   \n",
       "25%        33.000000     11.000000     13.000000    60.000000    28.000000   \n",
       "50%        41.000000     17.000000     20.000000    76.000000    43.000000   \n",
       "75%        50.000000     20.000000     26.000000    90.000000    59.000000   \n",
       "max       120.000000     48.000000     65.000000   100.000000   100.000000   \n",
       "\n",
       "       Pressure9am  Pressure3pm  Cloud9am  Cloud3pm      Temp9am      Temp3pm  \n",
       "count  1569.000000  1569.000000       0.0       0.0  1569.000000  1569.000000  \n",
       "mean   1018.546335  1016.401402       NaN       NaN    13.377693    20.866348  \n",
       "std       7.543523     7.334483       NaN       NaN     5.666358     7.321608  \n",
       "min     986.900000   982.600000       NaN       NaN    -0.200000     7.300000  \n",
       "25%    1013.500000  1011.500000       NaN       NaN     9.300000    14.700000  \n",
       "50%    1018.500000  1016.400000       NaN       NaN    12.700000    19.700000  \n",
       "75%    1023.600000  1021.300000       NaN       NaN    16.400000    25.600000  \n",
       "max    1038.500000  1036.300000       NaN       NaN    35.100000    43.200000  "
      ]
     },
     "execution_count": 34,
     "metadata": {},
     "output_type": "execute_result"
    }
   ],
   "source": [
    "mask_Nhil = weather_df[(weather_df['Location'] == 'Nhil')] \n",
    "mask_Nhil.describe()"
   ]
  },
  {
   "cell_type": "code",
   "execution_count": 35,
   "id": "7a5ada1e",
   "metadata": {},
   "outputs": [],
   "source": [
    "mask_Mel = mask_Mel[['Date', 'Evaporation', 'Sunshine']]"
   ]
  },
  {
   "cell_type": "code",
   "execution_count": 36,
   "id": "92155468",
   "metadata": {},
   "outputs": [],
   "source": [
    "mask_Mel_Bal = pd.merge(mask_Bal, \n",
    "                     mask_Mel, \n",
    "                     on ='Date', \n",
    "                     how ='left')"
   ]
  },
  {
   "cell_type": "code",
   "execution_count": 37,
   "id": "3da184ae",
   "metadata": {},
   "outputs": [],
   "source": [
    "mask_Mel_Bal = mask_Mel_Bal.drop(['Evaporation_x', 'Sunshine_x'], axis = 1)\n",
    "mask_Mel_Bal.rename(columns={\"Evaporation_y\": \"Evaporation\", \"Sunshine_y\": \"Sunshine\"}, inplace = True)"
   ]
  },
  {
   "cell_type": "code",
   "execution_count": 38,
   "id": "2c3b9dee",
   "metadata": {},
   "outputs": [],
   "source": [
    "mask_Mel_Bal = mask_Mel_Bal[['Date', 'Location', 'MinTemp', 'MaxTemp', \n",
    "                          'Rainfall', 'Evaporation', 'Sunshine','WindGustDir', \n",
    "                          'WindGustSpeed', 'WindDir9am', 'WindDir3pm', 'WindSpeed9am',\n",
    "                          'WindSpeed3pm', 'Humidity9am', 'Humidity3pm', 'Pressure9am',\n",
    "                          'Pressure3pm', 'Cloud9am', 'Cloud3pm', 'Temp9am', 'Temp3pm', 'RainToday', 'RainTomorrow']]"
   ]
  },
  {
   "cell_type": "code",
   "execution_count": 39,
   "id": "ace8d655",
   "metadata": {},
   "outputs": [],
   "source": [
    "weather_df = weather_df [weather_df [\"Location\"] != 'Ballarat']\n"
   ]
  },
  {
   "cell_type": "code",
   "execution_count": 40,
   "id": "c734c2b6",
   "metadata": {},
   "outputs": [
    {
     "data": {
      "text/plain": [
       "(142193, 23)"
      ]
     },
     "execution_count": 40,
     "metadata": {},
     "output_type": "execute_result"
    }
   ],
   "source": [
    "weather_df = weather_df.append(mask_Mel_Bal)\n",
    "weather_df.shape"
   ]
  },
  {
   "cell_type": "markdown",
   "id": "c712b533",
   "metadata": {},
   "source": [
    "### Replacing Nulls for Nhils from Melbourne"
   ]
  },
  {
   "cell_type": "code",
   "execution_count": 41,
   "id": "1b37c2da",
   "metadata": {},
   "outputs": [],
   "source": [
    "mask_Mel = weather_df[(weather_df['Location'] == 'Melbourne')]\n",
    "mask_Mel = mask_Mel[['Date', 'Evaporation', 'Sunshine', 'Cloud3pm', 'Cloud9am']]"
   ]
  },
  {
   "cell_type": "code",
   "execution_count": 42,
   "id": "2d49a418",
   "metadata": {},
   "outputs": [],
   "source": [
    "mask_Mel_Nhil = pd.merge(mask_Nhil, \n",
    "                     mask_Mel, \n",
    "                     on ='Date', \n",
    "                     how ='left')"
   ]
  },
  {
   "cell_type": "code",
   "execution_count": 43,
   "id": "d95bda15",
   "metadata": {},
   "outputs": [],
   "source": [
    "mask_Mel_Nhil = mask_Mel_Nhil.drop(['Evaporation_x', 'Sunshine_x', 'Cloud3pm_x', 'Cloud9am_x'], axis = 1)\n",
    "mask_Mel_Nhil.rename(columns={\"Evaporation_y\": \"Evaporation\", \"Sunshine_y\": \"Sunshine\", 'Cloud3pm_y': 'Cloud3pm' , 'Cloud9am_y': 'Cloud9am'}, inplace = True)"
   ]
  },
  {
   "cell_type": "code",
   "execution_count": 44,
   "id": "cc0c6e39",
   "metadata": {},
   "outputs": [],
   "source": [
    "weather_df = weather_df [weather_df [\"Location\"] != 'Nhil']\n"
   ]
  },
  {
   "cell_type": "code",
   "execution_count": 45,
   "id": "e355d6fb",
   "metadata": {},
   "outputs": [
    {
     "data": {
      "text/plain": [
       "(142193, 23)"
      ]
     },
     "execution_count": 45,
     "metadata": {},
     "output_type": "execute_result"
    }
   ],
   "source": [
    "weather_df = weather_df.append(mask_Mel_Nhil)\n",
    "weather_df.shape"
   ]
  },
  {
   "cell_type": "markdown",
   "id": "237194d4",
   "metadata": {},
   "source": [
    "### Replacing Nulls for Bendigo from Melbourne"
   ]
  },
  {
   "cell_type": "code",
   "execution_count": 46,
   "id": "dc95d93d",
   "metadata": {},
   "outputs": [
    {
     "data": {
      "text/html": [
       "<div>\n",
       "<style scoped>\n",
       "    .dataframe tbody tr th:only-of-type {\n",
       "        vertical-align: middle;\n",
       "    }\n",
       "\n",
       "    .dataframe tbody tr th {\n",
       "        vertical-align: top;\n",
       "    }\n",
       "\n",
       "    .dataframe thead th {\n",
       "        text-align: right;\n",
       "    }\n",
       "</style>\n",
       "<table border=\"1\" class=\"dataframe\">\n",
       "  <thead>\n",
       "    <tr style=\"text-align: right;\">\n",
       "      <th></th>\n",
       "      <th>MinTemp</th>\n",
       "      <th>MaxTemp</th>\n",
       "      <th>Rainfall</th>\n",
       "      <th>Evaporation</th>\n",
       "      <th>Sunshine</th>\n",
       "      <th>WindGustSpeed</th>\n",
       "      <th>WindSpeed9am</th>\n",
       "      <th>WindSpeed3pm</th>\n",
       "      <th>Humidity9am</th>\n",
       "      <th>Humidity3pm</th>\n",
       "      <th>Pressure9am</th>\n",
       "      <th>Pressure3pm</th>\n",
       "      <th>Cloud9am</th>\n",
       "      <th>Cloud3pm</th>\n",
       "      <th>Temp9am</th>\n",
       "      <th>Temp3pm</th>\n",
       "    </tr>\n",
       "  </thead>\n",
       "  <tbody>\n",
       "    <tr>\n",
       "      <th>count</th>\n",
       "      <td>3034.000000</td>\n",
       "      <td>3034.000000</td>\n",
       "      <td>3034.000000</td>\n",
       "      <td>3034.000000</td>\n",
       "      <td>0.0</td>\n",
       "      <td>3034.000000</td>\n",
       "      <td>3034.000000</td>\n",
       "      <td>3034.000000</td>\n",
       "      <td>3034.000000</td>\n",
       "      <td>3034.000000</td>\n",
       "      <td>3034.000000</td>\n",
       "      <td>3034.000000</td>\n",
       "      <td>3034.000000</td>\n",
       "      <td>3034.000000</td>\n",
       "      <td>3034.000000</td>\n",
       "      <td>3034.000000</td>\n",
       "    </tr>\n",
       "    <tr>\n",
       "      <th>mean</th>\n",
       "      <td>8.591065</td>\n",
       "      <td>21.616683</td>\n",
       "      <td>1.621452</td>\n",
       "      <td>3.851730</td>\n",
       "      <td>NaN</td>\n",
       "      <td>38.849283</td>\n",
       "      <td>12.934675</td>\n",
       "      <td>17.157374</td>\n",
       "      <td>70.543084</td>\n",
       "      <td>46.472140</td>\n",
       "      <td>1018.024272</td>\n",
       "      <td>1015.869521</td>\n",
       "      <td>4.396618</td>\n",
       "      <td>4.857080</td>\n",
       "      <td>13.844789</td>\n",
       "      <td>20.249885</td>\n",
       "    </tr>\n",
       "    <tr>\n",
       "      <th>std</th>\n",
       "      <td>5.698498</td>\n",
       "      <td>7.620235</td>\n",
       "      <td>5.184771</td>\n",
       "      <td>1.779435</td>\n",
       "      <td>NaN</td>\n",
       "      <td>12.049572</td>\n",
       "      <td>7.247203</td>\n",
       "      <td>7.557799</td>\n",
       "      <td>17.473334</td>\n",
       "      <td>20.472025</td>\n",
       "      <td>7.431247</td>\n",
       "      <td>7.267405</td>\n",
       "      <td>2.605466</td>\n",
       "      <td>2.307808</td>\n",
       "      <td>5.640393</td>\n",
       "      <td>7.337261</td>\n",
       "    </tr>\n",
       "    <tr>\n",
       "      <th>min</th>\n",
       "      <td>-4.000000</td>\n",
       "      <td>7.100000</td>\n",
       "      <td>0.000000</td>\n",
       "      <td>0.000000</td>\n",
       "      <td>NaN</td>\n",
       "      <td>13.000000</td>\n",
       "      <td>0.000000</td>\n",
       "      <td>0.000000</td>\n",
       "      <td>11.000000</td>\n",
       "      <td>3.000000</td>\n",
       "      <td>989.500000</td>\n",
       "      <td>988.600000</td>\n",
       "      <td>0.000000</td>\n",
       "      <td>0.000000</td>\n",
       "      <td>0.600000</td>\n",
       "      <td>5.000000</td>\n",
       "    </tr>\n",
       "    <tr>\n",
       "      <th>25%</th>\n",
       "      <td>4.300000</td>\n",
       "      <td>15.100000</td>\n",
       "      <td>0.000000</td>\n",
       "      <td>3.851730</td>\n",
       "      <td>NaN</td>\n",
       "      <td>31.000000</td>\n",
       "      <td>9.000000</td>\n",
       "      <td>11.000000</td>\n",
       "      <td>58.000000</td>\n",
       "      <td>31.000000</td>\n",
       "      <td>1013.000000</td>\n",
       "      <td>1011.100000</td>\n",
       "      <td>2.000000</td>\n",
       "      <td>3.000000</td>\n",
       "      <td>9.500000</td>\n",
       "      <td>14.100000</td>\n",
       "    </tr>\n",
       "    <tr>\n",
       "      <th>50%</th>\n",
       "      <td>8.200000</td>\n",
       "      <td>20.600000</td>\n",
       "      <td>0.000000</td>\n",
       "      <td>3.851730</td>\n",
       "      <td>NaN</td>\n",
       "      <td>38.849283</td>\n",
       "      <td>13.000000</td>\n",
       "      <td>17.000000</td>\n",
       "      <td>70.000000</td>\n",
       "      <td>45.000000</td>\n",
       "      <td>1018.024272</td>\n",
       "      <td>1015.869521</td>\n",
       "      <td>4.396618</td>\n",
       "      <td>4.857080</td>\n",
       "      <td>13.300000</td>\n",
       "      <td>19.300000</td>\n",
       "    </tr>\n",
       "    <tr>\n",
       "      <th>75%</th>\n",
       "      <td>12.500000</td>\n",
       "      <td>27.300000</td>\n",
       "      <td>0.400000</td>\n",
       "      <td>3.851730</td>\n",
       "      <td>NaN</td>\n",
       "      <td>46.000000</td>\n",
       "      <td>17.000000</td>\n",
       "      <td>22.000000</td>\n",
       "      <td>84.000000</td>\n",
       "      <td>60.000000</td>\n",
       "      <td>1023.100000</td>\n",
       "      <td>1020.700000</td>\n",
       "      <td>7.000000</td>\n",
       "      <td>7.000000</td>\n",
       "      <td>17.500000</td>\n",
       "      <td>25.600000</td>\n",
       "    </tr>\n",
       "    <tr>\n",
       "      <th>max</th>\n",
       "      <td>29.000000</td>\n",
       "      <td>45.400000</td>\n",
       "      <td>66.400000</td>\n",
       "      <td>15.400000</td>\n",
       "      <td>NaN</td>\n",
       "      <td>94.000000</td>\n",
       "      <td>52.000000</td>\n",
       "      <td>50.000000</td>\n",
       "      <td>100.000000</td>\n",
       "      <td>99.000000</td>\n",
       "      <td>1039.300000</td>\n",
       "      <td>1036.300000</td>\n",
       "      <td>8.000000</td>\n",
       "      <td>8.000000</td>\n",
       "      <td>34.400000</td>\n",
       "      <td>44.400000</td>\n",
       "    </tr>\n",
       "  </tbody>\n",
       "</table>\n",
       "</div>"
      ],
      "text/plain": [
       "           MinTemp      MaxTemp     Rainfall  Evaporation  Sunshine  \\\n",
       "count  3034.000000  3034.000000  3034.000000  3034.000000       0.0   \n",
       "mean      8.591065    21.616683     1.621452     3.851730       NaN   \n",
       "std       5.698498     7.620235     5.184771     1.779435       NaN   \n",
       "min      -4.000000     7.100000     0.000000     0.000000       NaN   \n",
       "25%       4.300000    15.100000     0.000000     3.851730       NaN   \n",
       "50%       8.200000    20.600000     0.000000     3.851730       NaN   \n",
       "75%      12.500000    27.300000     0.400000     3.851730       NaN   \n",
       "max      29.000000    45.400000    66.400000    15.400000       NaN   \n",
       "\n",
       "       WindGustSpeed  WindSpeed9am  WindSpeed3pm  Humidity9am  Humidity3pm  \\\n",
       "count    3034.000000   3034.000000   3034.000000  3034.000000  3034.000000   \n",
       "mean       38.849283     12.934675     17.157374    70.543084    46.472140   \n",
       "std        12.049572      7.247203      7.557799    17.473334    20.472025   \n",
       "min        13.000000      0.000000      0.000000    11.000000     3.000000   \n",
       "25%        31.000000      9.000000     11.000000    58.000000    31.000000   \n",
       "50%        38.849283     13.000000     17.000000    70.000000    45.000000   \n",
       "75%        46.000000     17.000000     22.000000    84.000000    60.000000   \n",
       "max        94.000000     52.000000     50.000000   100.000000    99.000000   \n",
       "\n",
       "       Pressure9am  Pressure3pm     Cloud9am     Cloud3pm      Temp9am  \\\n",
       "count  3034.000000  3034.000000  3034.000000  3034.000000  3034.000000   \n",
       "mean   1018.024272  1015.869521     4.396618     4.857080    13.844789   \n",
       "std       7.431247     7.267405     2.605466     2.307808     5.640393   \n",
       "min     989.500000   988.600000     0.000000     0.000000     0.600000   \n",
       "25%    1013.000000  1011.100000     2.000000     3.000000     9.500000   \n",
       "50%    1018.024272  1015.869521     4.396618     4.857080    13.300000   \n",
       "75%    1023.100000  1020.700000     7.000000     7.000000    17.500000   \n",
       "max    1039.300000  1036.300000     8.000000     8.000000    34.400000   \n",
       "\n",
       "           Temp3pm  \n",
       "count  3034.000000  \n",
       "mean     20.249885  \n",
       "std       7.337261  \n",
       "min       5.000000  \n",
       "25%      14.100000  \n",
       "50%      19.300000  \n",
       "75%      25.600000  \n",
       "max      44.400000  "
      ]
     },
     "execution_count": 46,
     "metadata": {},
     "output_type": "execute_result"
    }
   ],
   "source": [
    "mask_Ben = weather_df[(weather_df['Location'] == 'Bendigo')] \n",
    "mask_Ben.describe()"
   ]
  },
  {
   "cell_type": "code",
   "execution_count": 47,
   "id": "545a12fe",
   "metadata": {},
   "outputs": [],
   "source": [
    "mask_Mel = mask_Mel[['Date', 'Sunshine']]"
   ]
  },
  {
   "cell_type": "code",
   "execution_count": 48,
   "id": "b2f38556",
   "metadata": {},
   "outputs": [],
   "source": [
    "mask_Mel_Ben = pd.merge(mask_Ben, \n",
    "                     mask_Mel, \n",
    "                     on ='Date', \n",
    "                     how ='left')"
   ]
  },
  {
   "cell_type": "code",
   "execution_count": 49,
   "id": "b46e3a6e",
   "metadata": {},
   "outputs": [],
   "source": [
    "mask_Mel_Ben = mask_Mel_Ben.drop(['Sunshine_x'], axis = 1)\n",
    "mask_Mel_Ben.rename(columns={\"Sunshine_y\": \"Sunshine\"}, inplace = True)"
   ]
  },
  {
   "cell_type": "code",
   "execution_count": 50,
   "id": "eda6a295",
   "metadata": {},
   "outputs": [],
   "source": [
    "weather_df = weather_df [weather_df [\"Location\"] != 'Bendigo']\n"
   ]
  },
  {
   "cell_type": "code",
   "execution_count": 51,
   "id": "42c7ed2e",
   "metadata": {},
   "outputs": [
    {
     "data": {
      "text/plain": [
       "(142193, 23)"
      ]
     },
     "execution_count": 51,
     "metadata": {},
     "output_type": "execute_result"
    }
   ],
   "source": [
    "weather_df = weather_df.append(mask_Mel_Ben)\n",
    "weather_df.shape"
   ]
  },
  {
   "cell_type": "raw",
   "id": "96ec5939",
   "metadata": {},
   "source": [
    "Tuggeranong ----> canberra\n"
   ]
  },
  {
   "cell_type": "code",
   "execution_count": 52,
   "id": "e2780e57",
   "metadata": {},
   "outputs": [
    {
     "name": "stdout",
     "output_type": "stream",
     "text": [
      "<class 'pandas.core.frame.DataFrame'>\n",
      "Int64Index: 2998 entries, 49023 to 52061\n",
      "Data columns (total 23 columns):\n",
      " #   Column         Non-Null Count  Dtype         \n",
      "---  ------         --------------  -----         \n",
      " 0   Date           2998 non-null   datetime64[ns]\n",
      " 1   Location       2998 non-null   object        \n",
      " 2   MinTemp        2998 non-null   float64       \n",
      " 3   MaxTemp        2998 non-null   float64       \n",
      " 4   Rainfall       2998 non-null   float64       \n",
      " 5   Evaporation    0 non-null      float64       \n",
      " 6   Sunshine       0 non-null      float64       \n",
      " 7   WindGustDir    2985 non-null   object        \n",
      " 8   WindGustSpeed  2998 non-null   float64       \n",
      " 9   WindDir9am     2364 non-null   object        \n",
      " 10  WindDir3pm     2954 non-null   object        \n",
      " 11  WindSpeed9am   2998 non-null   float64       \n",
      " 12  WindSpeed3pm   2998 non-null   float64       \n",
      " 13  Humidity9am    2998 non-null   float64       \n",
      " 14  Humidity3pm    2998 non-null   float64       \n",
      " 15  Pressure9am    2998 non-null   float64       \n",
      " 16  Pressure3pm    2998 non-null   float64       \n",
      " 17  Cloud9am       0 non-null      float64       \n",
      " 18  Cloud3pm       0 non-null      float64       \n",
      " 19  Temp9am        2998 non-null   float64       \n",
      " 20  Temp3pm        2998 non-null   float64       \n",
      " 21  RainToday      2959 non-null   object        \n",
      " 22  RainTomorrow   2998 non-null   object        \n",
      "dtypes: datetime64[ns](1), float64(16), object(6)\n",
      "memory usage: 562.1+ KB\n"
     ]
    }
   ],
   "source": [
    "mask_tug = weather_df[(weather_df['Location'] == 'Tuggeranong')] \n",
    "mask_tug.info()"
   ]
  },
  {
   "cell_type": "code",
   "execution_count": 53,
   "id": "8268fb29",
   "metadata": {},
   "outputs": [],
   "source": [
    "mask_Can = weather_df[(weather_df['Location'] == 'Canberra')] \n",
    "mask_Can = mask_Can[['Date', 'Evaporation', 'Sunshine', 'Cloud3pm', 'Cloud9am']]"
   ]
  },
  {
   "cell_type": "code",
   "execution_count": 54,
   "id": "b4b64425",
   "metadata": {},
   "outputs": [],
   "source": [
    "mask_tug_Can = pd.merge(mask_tug, \n",
    "                     mask_Can, \n",
    "                     on ='Date', \n",
    "                     how ='left')"
   ]
  },
  {
   "cell_type": "code",
   "execution_count": 55,
   "id": "b64cb66c",
   "metadata": {},
   "outputs": [],
   "source": [
    "mask_tug_Can = mask_tug_Can.drop(['Evaporation_x', 'Sunshine_x', 'Cloud3pm_x', 'Cloud9am_x'], axis = 1)\n",
    "mask_tug_Can.rename(columns={\"Evaporation_y\": \"Evaporation\", \"Sunshine_y\": \"Sunshine\", 'Cloud3pm_y': 'Cloud3pm' , 'Cloud9am_y': 'Cloud9am'}, inplace = True)"
   ]
  },
  {
   "cell_type": "code",
   "execution_count": 56,
   "id": "3ff3767b",
   "metadata": {},
   "outputs": [],
   "source": [
    "weather_df = weather_df [weather_df [\"Location\"] != 'Tuggeranong']\n"
   ]
  },
  {
   "cell_type": "code",
   "execution_count": 57,
   "id": "ad4c7578",
   "metadata": {},
   "outputs": [
    {
     "data": {
      "text/plain": [
       "(142193, 23)"
      ]
     },
     "execution_count": 57,
     "metadata": {},
     "output_type": "execute_result"
    }
   ],
   "source": [
    "weather_df = weather_df.append(mask_tug_Can)\n",
    "weather_df.shape"
   ]
  },
  {
   "cell_type": "raw",
   "id": "7186ec44",
   "metadata": {},
   "source": [
    "Wollongong ---> Sydney\n"
   ]
  },
  {
   "cell_type": "code",
   "execution_count": 58,
   "id": "7e3bff87",
   "metadata": {},
   "outputs": [
    {
     "name": "stdout",
     "output_type": "stream",
     "text": [
      "<class 'pandas.core.frame.DataFrame'>\n",
      "Int64Index: 2983 entries, 42549 to 45586\n",
      "Data columns (total 23 columns):\n",
      " #   Column         Non-Null Count  Dtype         \n",
      "---  ------         --------------  -----         \n",
      " 0   Date           2983 non-null   datetime64[ns]\n",
      " 1   Location       2983 non-null   object        \n",
      " 2   MinTemp        2983 non-null   float64       \n",
      " 3   MaxTemp        2983 non-null   float64       \n",
      " 4   Rainfall       2983 non-null   float64       \n",
      " 5   Evaporation    0 non-null      float64       \n",
      " 6   Sunshine       0 non-null      float64       \n",
      " 7   WindGustDir    2973 non-null   object        \n",
      " 8   WindGustSpeed  2983 non-null   float64       \n",
      " 9   WindDir9am     2865 non-null   object        \n",
      " 10  WindDir3pm     2954 non-null   object        \n",
      " 11  WindSpeed9am   2983 non-null   float64       \n",
      " 12  WindSpeed3pm   2983 non-null   float64       \n",
      " 13  Humidity9am    2983 non-null   float64       \n",
      " 14  Humidity3pm    2983 non-null   float64       \n",
      " 15  Pressure9am    2983 non-null   float64       \n",
      " 16  Pressure3pm    2983 non-null   float64       \n",
      " 17  Cloud9am       2983 non-null   float64       \n",
      " 18  Cloud3pm       2983 non-null   float64       \n",
      " 19  Temp9am        2983 non-null   float64       \n",
      " 20  Temp3pm        2983 non-null   float64       \n",
      " 21  RainToday      2943 non-null   object        \n",
      " 22  RainTomorrow   2983 non-null   object        \n",
      "dtypes: datetime64[ns](1), float64(16), object(6)\n",
      "memory usage: 559.3+ KB\n"
     ]
    }
   ],
   "source": [
    "mask_Wol = weather_df[(weather_df['Location'] == 'Wollongong')] \n",
    "mask_Wol.info()"
   ]
  },
  {
   "cell_type": "code",
   "execution_count": 59,
   "id": "c525b95c",
   "metadata": {},
   "outputs": [],
   "source": [
    "mask_Syd = weather_df[(weather_df['Location'] == 'Sydney')] \n",
    "mask_Syd = mask_Syd[['Date', 'Evaporation', 'Sunshine']]"
   ]
  },
  {
   "cell_type": "code",
   "execution_count": 60,
   "id": "4693a030",
   "metadata": {},
   "outputs": [],
   "source": [
    "mask_Syd_Wol = pd.merge(mask_Wol, \n",
    "                     mask_Syd, \n",
    "                     on ='Date', \n",
    "                     how ='left')"
   ]
  },
  {
   "cell_type": "code",
   "execution_count": 61,
   "id": "f050121c",
   "metadata": {},
   "outputs": [],
   "source": [
    "mask_Syd_Wol = mask_Syd_Wol.drop(['Evaporation_x', 'Sunshine_x'], axis = 1)\n",
    "mask_Syd_Wol.rename(columns={\"Evaporation_y\": \"Evaporation\", \"Sunshine_y\": \"Sunshine\"}, inplace = True)"
   ]
  },
  {
   "cell_type": "code",
   "execution_count": 62,
   "id": "bf61eb61",
   "metadata": {},
   "outputs": [],
   "source": [
    "weather_df = weather_df [weather_df [\"Location\"] != 'Wollongong']\n"
   ]
  },
  {
   "cell_type": "code",
   "execution_count": 63,
   "id": "6a36ee4a",
   "metadata": {},
   "outputs": [
    {
     "data": {
      "text/plain": [
       "(142193, 23)"
      ]
     },
     "execution_count": 63,
     "metadata": {},
     "output_type": "execute_result"
    }
   ],
   "source": [
    "weather_df = weather_df.append(mask_Syd_Wol)\n",
    "weather_df.shape"
   ]
  },
  {
   "cell_type": "raw",
   "id": "445d40e7",
   "metadata": {},
   "source": [
    "Penrith ----> Sydney\n"
   ]
  },
  {
   "cell_type": "code",
   "execution_count": 64,
   "id": "79d15877",
   "metadata": {},
   "outputs": [
    {
     "name": "stdout",
     "output_type": "stream",
     "text": [
      "<class 'pandas.core.frame.DataFrame'>\n",
      "Int64Index: 2964 entries, 24128 to 27166\n",
      "Data columns (total 23 columns):\n",
      " #   Column         Non-Null Count  Dtype         \n",
      "---  ------         --------------  -----         \n",
      " 0   Date           2964 non-null   datetime64[ns]\n",
      " 1   Location       2964 non-null   object        \n",
      " 2   MinTemp        2964 non-null   float64       \n",
      " 3   MaxTemp        2964 non-null   float64       \n",
      " 4   Rainfall       2964 non-null   float64       \n",
      " 5   Evaporation    0 non-null      float64       \n",
      " 6   Sunshine       0 non-null      float64       \n",
      " 7   WindGustDir    2957 non-null   object        \n",
      " 8   WindGustSpeed  2964 non-null   float64       \n",
      " 9   WindDir9am     2432 non-null   object        \n",
      " 10  WindDir3pm     2904 non-null   object        \n",
      " 11  WindSpeed9am   2964 non-null   float64       \n",
      " 12  WindSpeed3pm   2964 non-null   float64       \n",
      " 13  Humidity9am    2964 non-null   float64       \n",
      " 14  Humidity3pm    2964 non-null   float64       \n",
      " 15  Pressure9am    0 non-null      float64       \n",
      " 16  Pressure3pm    0 non-null      float64       \n",
      " 17  Cloud9am       0 non-null      float64       \n",
      " 18  Cloud3pm       0 non-null      float64       \n",
      " 19  Temp9am        2964 non-null   float64       \n",
      " 20  Temp3pm        2964 non-null   float64       \n",
      " 21  RainToday      2911 non-null   object        \n",
      " 22  RainTomorrow   2964 non-null   object        \n",
      "dtypes: datetime64[ns](1), float64(16), object(6)\n",
      "memory usage: 555.8+ KB\n"
     ]
    }
   ],
   "source": [
    "mask_Pen = weather_df[(weather_df['Location'] == 'Penrith')] \n",
    "mask_Pen.info()"
   ]
  },
  {
   "cell_type": "code",
   "execution_count": 65,
   "id": "d7a43943",
   "metadata": {},
   "outputs": [],
   "source": [
    "mask_Syd = weather_df[(weather_df['Location'] == 'Sydney')] \n",
    "mask_Syd = mask_Syd[['Date', 'Evaporation', 'Sunshine', 'Pressure9am', 'Pressure3pm', 'Cloud3pm', 'Cloud9am']]"
   ]
  },
  {
   "cell_type": "code",
   "execution_count": 66,
   "id": "ff0c3446",
   "metadata": {},
   "outputs": [],
   "source": [
    "mask_Syd_Pen = pd.merge(mask_Pen, \n",
    "                     mask_Syd, \n",
    "                     on ='Date', \n",
    "                     how ='left')"
   ]
  },
  {
   "cell_type": "code",
   "execution_count": 67,
   "id": "0cbbc703",
   "metadata": {},
   "outputs": [],
   "source": [
    "mask_Syd_Pen = mask_Syd_Pen.drop(['Evaporation_x', 'Sunshine_x', 'Pressure9am_x', 'Pressure3pm_x', 'Cloud3pm_x', 'Cloud9am_x'], axis = 1)\n",
    "mask_Syd_Pen.rename(columns={\"Evaporation_y\": \"Evaporation\", \"Sunshine_y\": \"Sunshine\", 'Pressure9am_y': 'Pressure9am', 'Cloud3pm_y':'Cloud3pm', 'Pressure3pm_y': 'Pressure3pm',\"Cloud9am_y\": 'Cloud9am' }, inplace = True)"
   ]
  },
  {
   "cell_type": "code",
   "execution_count": 68,
   "id": "4d83427c",
   "metadata": {},
   "outputs": [],
   "source": [
    "weather_df = weather_df [weather_df [\"Location\"] != 'Penrith']"
   ]
  },
  {
   "cell_type": "code",
   "execution_count": 69,
   "id": "661c2f7b",
   "metadata": {},
   "outputs": [
    {
     "data": {
      "text/plain": [
       "(142193, 23)"
      ]
     },
     "execution_count": 69,
     "metadata": {},
     "output_type": "execute_result"
    }
   ],
   "source": [
    "weather_df = weather_df.append(mask_Syd_Pen)\n",
    "weather_df.shape"
   ]
  },
  {
   "cell_type": "raw",
   "id": "ac35131c",
   "metadata": {},
   "source": [
    "BadgerysCreek ----> Sydney\n"
   ]
  },
  {
   "cell_type": "code",
   "execution_count": 70,
   "id": "8e83aa94",
   "metadata": {},
   "outputs": [
    {
     "name": "stdout",
     "output_type": "stream",
     "text": [
      "<class 'pandas.core.frame.DataFrame'>\n",
      "Int64Index: 2928 entries, 3040 to 6048\n",
      "Data columns (total 23 columns):\n",
      " #   Column         Non-Null Count  Dtype         \n",
      "---  ------         --------------  -----         \n",
      " 0   Date           2928 non-null   datetime64[ns]\n",
      " 1   Location       2928 non-null   object        \n",
      " 2   MinTemp        2928 non-null   float64       \n",
      " 3   MaxTemp        2928 non-null   float64       \n",
      " 4   Rainfall       2928 non-null   float64       \n",
      " 5   Evaporation    0 non-null      float64       \n",
      " 6   Sunshine       0 non-null      float64       \n",
      " 7   WindGustDir    2912 non-null   object        \n",
      " 8   WindGustSpeed  2928 non-null   float64       \n",
      " 9   WindDir9am     2533 non-null   object        \n",
      " 10  WindDir3pm     2868 non-null   object        \n",
      " 11  WindSpeed9am   2928 non-null   float64       \n",
      " 12  WindSpeed3pm   2928 non-null   float64       \n",
      " 13  Humidity9am    2928 non-null   float64       \n",
      " 14  Humidity3pm    2928 non-null   float64       \n",
      " 15  Pressure9am    2928 non-null   float64       \n",
      " 16  Pressure3pm    2928 non-null   float64       \n",
      " 17  Cloud9am       0 non-null      float64       \n",
      " 18  Cloud3pm       0 non-null      float64       \n",
      " 19  Temp9am        2928 non-null   float64       \n",
      " 20  Temp3pm        2928 non-null   float64       \n",
      " 21  RainToday      2877 non-null   object        \n",
      " 22  RainTomorrow   2928 non-null   object        \n",
      "dtypes: datetime64[ns](1), float64(16), object(6)\n",
      "memory usage: 549.0+ KB\n"
     ]
    }
   ],
   "source": [
    "mask_Bad = weather_df[(weather_df['Location'] == 'BadgerysCreek')] \n",
    "mask_Bad.info()"
   ]
  },
  {
   "cell_type": "code",
   "execution_count": 71,
   "id": "74780cb4",
   "metadata": {},
   "outputs": [],
   "source": [
    "mask_Syd = weather_df[(weather_df['Location'] == 'Sydney')] \n",
    "mask_Syd = mask_Syd[['Date', 'Evaporation', 'Sunshine', 'Cloud9am', 'Cloud3pm']]"
   ]
  },
  {
   "cell_type": "code",
   "execution_count": 72,
   "id": "281cd2d6",
   "metadata": {},
   "outputs": [],
   "source": [
    "mask_Syd_Bad = pd.merge(mask_Bad, \n",
    "                     mask_Syd, \n",
    "                     on ='Date', \n",
    "                     how ='left')"
   ]
  },
  {
   "cell_type": "code",
   "execution_count": 73,
   "id": "9750cb2c",
   "metadata": {},
   "outputs": [],
   "source": [
    "mask_Syd_Bad = mask_Syd_Bad.drop(['Evaporation_x', 'Sunshine_x', 'Cloud3pm_x', 'Cloud9am_x'], axis = 1)\n",
    "mask_Syd_Bad.rename(columns={\"Evaporation_y\": \"Evaporation\", \"Sunshine_y\": \"Sunshine\", 'Cloud3pm_y':'Cloud3pm', \"Cloud9am_y\": 'Cloud9am' }, inplace = True)"
   ]
  },
  {
   "cell_type": "code",
   "execution_count": 74,
   "id": "8e3768ca",
   "metadata": {},
   "outputs": [],
   "source": [
    "weather_df = weather_df [weather_df [\"Location\"] != 'BadgerysCreek']\n"
   ]
  },
  {
   "cell_type": "code",
   "execution_count": 75,
   "id": "5c055905",
   "metadata": {},
   "outputs": [
    {
     "data": {
      "text/plain": [
       "(142193, 23)"
      ]
     },
     "execution_count": 75,
     "metadata": {},
     "output_type": "execute_result"
    }
   ],
   "source": [
    "weather_df = weather_df.append(mask_Syd_Bad)\n",
    "weather_df.shape"
   ]
  },
  {
   "cell_type": "markdown",
   "id": "f195609b",
   "metadata": {},
   "source": [
    "Newcastle ----> Syndey\n"
   ]
  },
  {
   "cell_type": "code",
   "execution_count": 76,
   "id": "f46fae40",
   "metadata": {},
   "outputs": [
    {
     "name": "stdout",
     "output_type": "stream",
     "text": [
      "<class 'pandas.core.frame.DataFrame'>\n",
      "Int64Index: 2955 entries, 15076 to 18114\n",
      "Data columns (total 23 columns):\n",
      " #   Column         Non-Null Count  Dtype         \n",
      "---  ------         --------------  -----         \n",
      " 0   Date           2955 non-null   datetime64[ns]\n",
      " 1   Location       2955 non-null   object        \n",
      " 2   MinTemp        2955 non-null   float64       \n",
      " 3   MaxTemp        2955 non-null   float64       \n",
      " 4   Rainfall       2955 non-null   float64       \n",
      " 5   Evaporation    0 non-null      float64       \n",
      " 6   Sunshine       0 non-null      float64       \n",
      " 7   WindGustDir    0 non-null      object        \n",
      " 8   WindGustSpeed  0 non-null      float64       \n",
      " 9   WindDir9am     1601 non-null   object        \n",
      " 10  WindDir3pm     1713 non-null   object        \n",
      " 11  WindSpeed9am   2955 non-null   float64       \n",
      " 12  WindSpeed3pm   2955 non-null   float64       \n",
      " 13  Humidity9am    2955 non-null   float64       \n",
      " 14  Humidity3pm    2955 non-null   float64       \n",
      " 15  Pressure9am    0 non-null      float64       \n",
      " 16  Pressure3pm    0 non-null      float64       \n",
      " 17  Cloud9am       2955 non-null   float64       \n",
      " 18  Cloud3pm       2955 non-null   float64       \n",
      " 19  Temp9am        2955 non-null   float64       \n",
      " 20  Temp3pm        2955 non-null   float64       \n",
      " 21  RainToday      2929 non-null   object        \n",
      " 22  RainTomorrow   2955 non-null   object        \n",
      "dtypes: datetime64[ns](1), float64(16), object(6)\n",
      "memory usage: 554.1+ KB\n"
     ]
    }
   ],
   "source": [
    "\n",
    "mask_New = weather_df[(weather_df['Location'] == 'Newcastle')] \n",
    "mask_New.info()"
   ]
  },
  {
   "cell_type": "code",
   "execution_count": 77,
   "id": "29a3904e",
   "metadata": {},
   "outputs": [],
   "source": [
    "mask_Syd = weather_df[(weather_df['Location'] == 'Sydney')] \n",
    "mask_Syd = mask_Syd[['Date', 'Evaporation', 'Sunshine', 'WindGustDir', 'WindGustSpeed', 'Pressure9am', 'Pressure3pm']]"
   ]
  },
  {
   "cell_type": "code",
   "execution_count": 78,
   "id": "18a4359c",
   "metadata": {},
   "outputs": [],
   "source": [
    "mask_Syd_New = pd.merge(mask_New, \n",
    "                     mask_Syd, \n",
    "                     on ='Date', \n",
    "                     how ='left')"
   ]
  },
  {
   "cell_type": "code",
   "execution_count": 79,
   "id": "7200c938",
   "metadata": {},
   "outputs": [],
   "source": [
    "mask_Syd_New = mask_Syd_New.drop(['Evaporation_x', 'Sunshine_x', 'WindGustDir_x', 'WindGustSpeed_x', 'Pressure9am_x', 'Pressure3pm_x'], axis = 1)\n",
    "mask_Syd_New.rename(columns={\"Evaporation_y\": \"Evaporation\", \"Sunshine_y\": \"Sunshine\", 'WindGustDir_y': 'WindGustDir', 'WindGustSpeed_y': 'WindGustSpeed', 'Pressure9am_y': 'Pressure9am' , 'Pressure3pm_y': 'Pressure3pm' }, inplace = True)"
   ]
  },
  {
   "cell_type": "code",
   "execution_count": 80,
   "id": "5fbb6794",
   "metadata": {},
   "outputs": [],
   "source": [
    "weather_df = weather_df [weather_df [\"Location\"] != 'Newcastle']"
   ]
  },
  {
   "cell_type": "code",
   "execution_count": 81,
   "id": "0e1026d4",
   "metadata": {},
   "outputs": [
    {
     "data": {
      "text/plain": [
       "(142193, 23)"
      ]
     },
     "execution_count": 81,
     "metadata": {},
     "output_type": "execute_result"
    }
   ],
   "source": [
    "weather_df = weather_df.append(mask_Syd_New)\n",
    "weather_df.shape"
   ]
  },
  {
   "cell_type": "raw",
   "id": "7807ee9f",
   "metadata": {},
   "source": [
    "NorahHead ---> Sydney\n"
   ]
  },
  {
   "cell_type": "code",
   "execution_count": 82,
   "id": "f7c24e02",
   "metadata": {},
   "outputs": [
    {
     "name": "stdout",
     "output_type": "stream",
     "text": [
      "<class 'pandas.core.frame.DataFrame'>\n",
      "Int64Index: 2929 entries, 18115 to 21118\n",
      "Data columns (total 23 columns):\n",
      " #   Column         Non-Null Count  Dtype         \n",
      "---  ------         --------------  -----         \n",
      " 0   Date           2929 non-null   datetime64[ns]\n",
      " 1   Location       2929 non-null   object        \n",
      " 2   MinTemp        2929 non-null   float64       \n",
      " 3   MaxTemp        2929 non-null   float64       \n",
      " 4   Rainfall       2929 non-null   float64       \n",
      " 5   Evaporation    0 non-null      float64       \n",
      " 6   Sunshine       0 non-null      float64       \n",
      " 7   WindGustDir    2925 non-null   object        \n",
      " 8   WindGustSpeed  2929 non-null   float64       \n",
      " 9   WindDir9am     2845 non-null   object        \n",
      " 10  WindDir3pm     2900 non-null   object        \n",
      " 11  WindSpeed9am   2929 non-null   float64       \n",
      " 12  WindSpeed3pm   2929 non-null   float64       \n",
      " 13  Humidity9am    2929 non-null   float64       \n",
      " 14  Humidity3pm    2929 non-null   float64       \n",
      " 15  Pressure9am    2929 non-null   float64       \n",
      " 16  Pressure3pm    2929 non-null   float64       \n",
      " 17  Cloud9am       0 non-null      float64       \n",
      " 18  Cloud3pm       0 non-null      float64       \n",
      " 19  Temp9am        2929 non-null   float64       \n",
      " 20  Temp3pm        2929 non-null   float64       \n",
      " 21  RainToday      2888 non-null   object        \n",
      " 22  RainTomorrow   2929 non-null   object        \n",
      "dtypes: datetime64[ns](1), float64(16), object(6)\n",
      "memory usage: 549.2+ KB\n"
     ]
    }
   ],
   "source": [
    "mask_Norah = weather_df[(weather_df['Location'] == 'NorahHead')] \n",
    "mask_Norah.info()"
   ]
  },
  {
   "cell_type": "code",
   "execution_count": 83,
   "id": "48cf9b94",
   "metadata": {},
   "outputs": [],
   "source": [
    "mask_Syd = weather_df[(weather_df['Location'] == 'Sydney')] \n",
    "mask_Syd = mask_Syd[['Date', 'Evaporation', 'Sunshine', 'Cloud9am', 'Cloud3pm']]"
   ]
  },
  {
   "cell_type": "code",
   "execution_count": 84,
   "id": "e8805cf4",
   "metadata": {},
   "outputs": [],
   "source": [
    "mask_Syd_Norah = pd.merge(mask_Norah, \n",
    "                     mask_Syd, \n",
    "                     on ='Date', \n",
    "                     how ='left')"
   ]
  },
  {
   "cell_type": "code",
   "execution_count": 85,
   "id": "53d9f272",
   "metadata": {},
   "outputs": [],
   "source": [
    "mask_Syd_Norah = mask_Syd_Norah.drop(['Evaporation_x', 'Sunshine_x', 'Cloud3pm_x', 'Cloud9am_x'], axis = 1)\n",
    "mask_Syd_Norah.rename(columns={\"Evaporation_y\": \"Evaporation\", \"Sunshine_y\": \"Sunshine\", 'Cloud3pm_y':'Cloud3pm', \"Cloud9am_y\": 'Cloud9am' }, inplace = True)"
   ]
  },
  {
   "cell_type": "code",
   "execution_count": 86,
   "id": "fe5e60b3",
   "metadata": {},
   "outputs": [],
   "source": [
    "weather_df = weather_df [weather_df [\"Location\"] != 'NorahHead']"
   ]
  },
  {
   "cell_type": "code",
   "execution_count": 87,
   "id": "6364fe3f",
   "metadata": {},
   "outputs": [
    {
     "data": {
      "text/plain": [
       "(142193, 23)"
      ]
     },
     "execution_count": 87,
     "metadata": {},
     "output_type": "execute_result"
    }
   ],
   "source": [
    "weather_df = weather_df.append(mask_Syd_Norah)\n",
    "weather_df.shape"
   ]
  },
  {
   "cell_type": "raw",
   "id": "0ff3850c",
   "metadata": {},
   "source": [
    "GoldCoast---> Brisbane\n"
   ]
  },
  {
   "cell_type": "code",
   "execution_count": 88,
   "id": "ca5cd3b9",
   "metadata": {},
   "outputs": [
    {
     "name": "stdout",
     "output_type": "stream",
     "text": [
      "<class 'pandas.core.frame.DataFrame'>\n",
      "Int64Index: 2980 entries, 90240 to 93279\n",
      "Data columns (total 23 columns):\n",
      " #   Column         Non-Null Count  Dtype         \n",
      "---  ------         --------------  -----         \n",
      " 0   Date           2980 non-null   datetime64[ns]\n",
      " 1   Location       2980 non-null   object        \n",
      " 2   MinTemp        2980 non-null   float64       \n",
      " 3   MaxTemp        2980 non-null   float64       \n",
      " 4   Rainfall       2980 non-null   float64       \n",
      " 5   Evaporation    0 non-null      float64       \n",
      " 6   Sunshine       0 non-null      float64       \n",
      " 7   WindGustDir    2895 non-null   object        \n",
      " 8   WindGustSpeed  2980 non-null   float64       \n",
      " 9   WindDir9am     2921 non-null   object        \n",
      " 10  WindDir3pm     2947 non-null   object        \n",
      " 11  WindSpeed9am   2980 non-null   float64       \n",
      " 12  WindSpeed3pm   2980 non-null   float64       \n",
      " 13  Humidity9am    2980 non-null   float64       \n",
      " 14  Humidity3pm    2980 non-null   float64       \n",
      " 15  Pressure9am    2980 non-null   float64       \n",
      " 16  Pressure3pm    2980 non-null   float64       \n",
      " 17  Cloud9am       0 non-null      float64       \n",
      " 18  Cloud3pm       0 non-null      float64       \n",
      " 19  Temp9am        2980 non-null   float64       \n",
      " 20  Temp3pm        2980 non-null   float64       \n",
      " 21  RainToday      2924 non-null   object        \n",
      " 22  RainTomorrow   2980 non-null   object        \n",
      "dtypes: datetime64[ns](1), float64(16), object(6)\n",
      "memory usage: 558.8+ KB\n"
     ]
    }
   ],
   "source": [
    "mask_Gold = weather_df[(weather_df['Location'] == 'GoldCoast')] \n",
    "mask_Gold.info()"
   ]
  },
  {
   "cell_type": "code",
   "execution_count": 89,
   "id": "ca896acc",
   "metadata": {},
   "outputs": [],
   "source": [
    "mask_Bris = weather_df[(weather_df['Location'] == 'Brisbane')] \n",
    "mask_Bris = mask_Bris[['Date', 'Evaporation', 'Sunshine', 'Cloud9am', 'Cloud3pm']]"
   ]
  },
  {
   "cell_type": "code",
   "execution_count": 90,
   "id": "e280feca",
   "metadata": {},
   "outputs": [],
   "source": [
    "mask_Gold_Bris = pd.merge(mask_Gold, \n",
    "                     mask_Bris, \n",
    "                     on ='Date', \n",
    "                     how ='left')"
   ]
  },
  {
   "cell_type": "code",
   "execution_count": 91,
   "id": "e5aa7cda",
   "metadata": {},
   "outputs": [],
   "source": [
    "mask_Gold_Bris = mask_Gold_Bris.drop(['Evaporation_x', 'Sunshine_x', 'Cloud3pm_x', 'Cloud9am_x'], axis = 1)\n",
    "mask_Gold_Bris.rename(columns={\"Evaporation_y\": \"Evaporation\", \"Sunshine_y\": \"Sunshine\", 'Cloud3pm_y':'Cloud3pm', \"Cloud9am_y\": 'Cloud9am' }, inplace = True)"
   ]
  },
  {
   "cell_type": "code",
   "execution_count": 92,
   "id": "f034d1e6",
   "metadata": {},
   "outputs": [],
   "source": [
    "weather_df = weather_df [weather_df [\"Location\"] != 'GoldCoast']"
   ]
  },
  {
   "cell_type": "code",
   "execution_count": 93,
   "id": "103ebdec",
   "metadata": {},
   "outputs": [
    {
     "data": {
      "text/plain": [
       "(142193, 23)"
      ]
     },
     "execution_count": 93,
     "metadata": {},
     "output_type": "execute_result"
    }
   ],
   "source": [
    "weather_df = weather_df.append(mask_Gold_Bris)\n",
    "weather_df.shape"
   ]
  },
  {
   "cell_type": "raw",
   "id": "9309a50e",
   "metadata": {},
   "source": [
    "Witchcliffe -----> Albany\n"
   ]
  },
  {
   "cell_type": "code",
   "execution_count": 94,
   "id": "b9231da2",
   "metadata": {},
   "outputs": [
    {
     "name": "stdout",
     "output_type": "stream",
     "text": [
      "<class 'pandas.core.frame.DataFrame'>\n",
      "Int64Index: 2952 entries, 111611 to 114619\n",
      "Data columns (total 23 columns):\n",
      " #   Column         Non-Null Count  Dtype         \n",
      "---  ------         --------------  -----         \n",
      " 0   Date           2952 non-null   datetime64[ns]\n",
      " 1   Location       2952 non-null   object        \n",
      " 2   MinTemp        2952 non-null   float64       \n",
      " 3   MaxTemp        2952 non-null   float64       \n",
      " 4   Rainfall       2952 non-null   float64       \n",
      " 5   Evaporation    0 non-null      float64       \n",
      " 6   Sunshine       0 non-null      float64       \n",
      " 7   WindGustDir    2937 non-null   object        \n",
      " 8   WindGustSpeed  2952 non-null   float64       \n",
      " 9   WindDir9am     2705 non-null   object        \n",
      " 10  WindDir3pm     2934 non-null   object        \n",
      " 11  WindSpeed9am   2952 non-null   float64       \n",
      " 12  WindSpeed3pm   2952 non-null   float64       \n",
      " 13  Humidity9am    2952 non-null   float64       \n",
      " 14  Humidity3pm    2952 non-null   float64       \n",
      " 15  Pressure9am    2952 non-null   float64       \n",
      " 16  Pressure3pm    2952 non-null   float64       \n",
      " 17  Cloud9am       0 non-null      float64       \n",
      " 18  Cloud3pm       0 non-null      float64       \n",
      " 19  Temp9am        2952 non-null   float64       \n",
      " 20  Temp3pm        2952 non-null   float64       \n",
      " 21  RainToday      2924 non-null   object        \n",
      " 22  RainTomorrow   2952 non-null   object        \n",
      "dtypes: datetime64[ns](1), float64(16), object(6)\n",
      "memory usage: 553.5+ KB\n"
     ]
    }
   ],
   "source": [
    "mask_witch = weather_df[(weather_df['Location'] == 'Witchcliffe')] \n",
    "mask_witch.info()"
   ]
  },
  {
   "cell_type": "code",
   "execution_count": 95,
   "id": "33646e4e",
   "metadata": {},
   "outputs": [],
   "source": [
    "mask_Albany = weather_df[(weather_df['Location'] == 'Albany')] \n",
    "mask_Albany = mask_Albany[['Date', 'Evaporation', 'Sunshine', 'Cloud9am', 'Cloud3pm']]"
   ]
  },
  {
   "cell_type": "code",
   "execution_count": 96,
   "id": "450a84b4",
   "metadata": {},
   "outputs": [],
   "source": [
    "mask_witch_Albany = pd.merge(mask_witch, \n",
    "                     mask_Albany, \n",
    "                     on ='Date', \n",
    "                     how ='left')"
   ]
  },
  {
   "cell_type": "code",
   "execution_count": 97,
   "id": "653f62ce",
   "metadata": {},
   "outputs": [],
   "source": [
    "mask_witch_Albany = mask_witch_Albany.drop(['Evaporation_x', 'Sunshine_x', 'Cloud3pm_x', 'Cloud9am_x'], axis = 1)\n",
    "mask_witch_Albany.rename(columns={\"Evaporation_y\": \"Evaporation\", \"Sunshine_y\": \"Sunshine\", 'Cloud3pm_y':'Cloud3pm', \"Cloud9am_y\": 'Cloud9am' }, inplace = True)"
   ]
  },
  {
   "cell_type": "code",
   "execution_count": 98,
   "id": "42c9ed6f",
   "metadata": {},
   "outputs": [],
   "source": [
    "weather_df = weather_df [weather_df [\"Location\"] != 'Witchcliffe']"
   ]
  },
  {
   "cell_type": "code",
   "execution_count": 99,
   "id": "47eac2dc",
   "metadata": {},
   "outputs": [
    {
     "data": {
      "text/plain": [
       "(142193, 23)"
      ]
     },
     "execution_count": 99,
     "metadata": {},
     "output_type": "execute_result"
    }
   ],
   "source": [
    "weather_df = weather_df.append(mask_witch_Albany)\n",
    "weather_df.shape"
   ]
  },
  {
   "cell_type": "code",
   "execution_count": 100,
   "id": "cc99745f",
   "metadata": {},
   "outputs": [
    {
     "name": "stdout",
     "output_type": "stream",
     "text": [
      "<class 'pandas.core.frame.DataFrame'>\n",
      "Int64Index: 3016 entries, 108571 to 111610\n",
      "Data columns (total 23 columns):\n",
      " #   Column         Non-Null Count  Dtype         \n",
      "---  ------         --------------  -----         \n",
      " 0   Date           3016 non-null   datetime64[ns]\n",
      " 1   Location       3016 non-null   object        \n",
      " 2   MinTemp        3016 non-null   float64       \n",
      " 3   MaxTemp        3016 non-null   float64       \n",
      " 4   Rainfall       3016 non-null   float64       \n",
      " 5   Evaporation    3016 non-null   float64       \n",
      " 6   Sunshine       3016 non-null   float64       \n",
      " 7   WindGustDir    0 non-null      object        \n",
      " 8   WindGustSpeed  0 non-null      float64       \n",
      " 9   WindDir9am     2772 non-null   object        \n",
      " 10  WindDir3pm     2249 non-null   object        \n",
      " 11  WindSpeed9am   3016 non-null   float64       \n",
      " 12  WindSpeed3pm   3016 non-null   float64       \n",
      " 13  Humidity9am    3016 non-null   float64       \n",
      " 14  Humidity3pm    3016 non-null   float64       \n",
      " 15  Pressure9am    3016 non-null   float64       \n",
      " 16  Pressure3pm    3016 non-null   float64       \n",
      " 17  Cloud9am       3016 non-null   float64       \n",
      " 18  Cloud3pm       3016 non-null   float64       \n",
      " 19  Temp9am        3016 non-null   float64       \n",
      " 20  Temp3pm        3016 non-null   float64       \n",
      " 21  RainToday      2996 non-null   object        \n",
      " 22  RainTomorrow   3016 non-null   object        \n",
      "dtypes: datetime64[ns](1), float64(16), object(6)\n",
      "memory usage: 565.5+ KB\n"
     ]
    }
   ],
   "source": [
    "mask_Albany = weather_df[(weather_df['Location'] == 'Albany')] \n",
    "mask_Albany.info()"
   ]
  },
  {
   "cell_type": "code",
   "execution_count": 101,
   "id": "3f1c678d",
   "metadata": {},
   "outputs": [],
   "source": [
    "mask_witch = weather_df[(weather_df['Location'] == 'Albany')] \n",
    " \n",
    "mask_witch = mask_witch[['Date', 'WindGustDir', 'WindGustSpeed']]"
   ]
  },
  {
   "cell_type": "code",
   "execution_count": 102,
   "id": "4b7d14ed",
   "metadata": {},
   "outputs": [],
   "source": [
    "mask_Alb_Wit = pd.merge(mask_Albany, \n",
    "                     mask_witch, \n",
    "                     on ='Date', \n",
    "                     how ='left')"
   ]
  },
  {
   "cell_type": "code",
   "execution_count": 103,
   "id": "387d1ae1",
   "metadata": {},
   "outputs": [],
   "source": [
    "mask_Alb_Wit = mask_Alb_Wit.drop(['WindGustDir_x', 'WindGustSpeed_x'], axis = 1)\n",
    "mask_Alb_Wit.rename(columns={\"WindGustDir_y\": \"WindGustDir\", \"WindGustSpeed_y\": \"WindGustSpeed\" }, inplace = True)"
   ]
  },
  {
   "cell_type": "code",
   "execution_count": 104,
   "id": "21b48a41",
   "metadata": {},
   "outputs": [],
   "source": [
    "weather_df = weather_df [weather_df [\"Location\"] != 'Albany']"
   ]
  },
  {
   "cell_type": "code",
   "execution_count": 105,
   "id": "3e2af3ec",
   "metadata": {},
   "outputs": [
    {
     "data": {
      "text/plain": [
       "(142193, 23)"
      ]
     },
     "execution_count": 105,
     "metadata": {},
     "output_type": "execute_result"
    }
   ],
   "source": [
    "weather_df = weather_df.append(mask_Alb_Wit)\n",
    "weather_df.shape"
   ]
  },
  {
   "cell_type": "raw",
   "id": "9e1b40b7",
   "metadata": {},
   "source": [
    "Walpole ----> Albany"
   ]
  },
  {
   "cell_type": "code",
   "execution_count": 106,
   "id": "f9e8aed0",
   "metadata": {},
   "outputs": [
    {
     "name": "stdout",
     "output_type": "stream",
     "text": [
      "<class 'pandas.core.frame.DataFrame'>\n",
      "Int64Index: 2819 entries, 126832 to 129837\n",
      "Data columns (total 23 columns):\n",
      " #   Column         Non-Null Count  Dtype         \n",
      "---  ------         --------------  -----         \n",
      " 0   Date           2819 non-null   datetime64[ns]\n",
      " 1   Location       2819 non-null   object        \n",
      " 2   MinTemp        2819 non-null   float64       \n",
      " 3   MaxTemp        2819 non-null   float64       \n",
      " 4   Rainfall       2819 non-null   float64       \n",
      " 5   Evaporation    0 non-null      float64       \n",
      " 6   Sunshine       0 non-null      float64       \n",
      " 7   WindGustDir    2755 non-null   object        \n",
      " 8   WindGustSpeed  2819 non-null   float64       \n",
      " 9   WindDir9am     2575 non-null   object        \n",
      " 10  WindDir3pm     2763 non-null   object        \n",
      " 11  WindSpeed9am   2819 non-null   float64       \n",
      " 12  WindSpeed3pm   2819 non-null   float64       \n",
      " 13  Humidity9am    2819 non-null   float64       \n",
      " 14  Humidity3pm    2819 non-null   float64       \n",
      " 15  Pressure9am    2819 non-null   float64       \n",
      " 16  Pressure3pm    2819 non-null   float64       \n",
      " 17  Cloud9am       0 non-null      float64       \n",
      " 18  Cloud3pm       0 non-null      float64       \n",
      " 19  Temp9am        2819 non-null   float64       \n",
      " 20  Temp3pm        2819 non-null   float64       \n",
      " 21  RainToday      2770 non-null   object        \n",
      " 22  RainTomorrow   2819 non-null   object        \n",
      "dtypes: datetime64[ns](1), float64(16), object(6)\n",
      "memory usage: 528.6+ KB\n"
     ]
    }
   ],
   "source": [
    "mask_Wal = weather_df[(weather_df['Location'] == 'Walpole')] \n",
    "mask_Wal.info()"
   ]
  },
  {
   "cell_type": "code",
   "execution_count": 107,
   "id": "2565653f",
   "metadata": {},
   "outputs": [],
   "source": [
    "mask_Albany = weather_df[(weather_df['Location'] == 'Albany')] \n",
    "mask_Albany = mask_Albany[['Date', 'Evaporation', 'Sunshine', 'Cloud9am', 'Cloud3pm']]"
   ]
  },
  {
   "cell_type": "code",
   "execution_count": 108,
   "id": "2549087d",
   "metadata": {},
   "outputs": [],
   "source": [
    "mask_Wal_Albany = pd.merge(mask_Wal, \n",
    "                     mask_Albany, \n",
    "                     on ='Date', \n",
    "                     how ='left')"
   ]
  },
  {
   "cell_type": "code",
   "execution_count": 109,
   "id": "6701abcc",
   "metadata": {},
   "outputs": [],
   "source": [
    "mask_Wal_Albany = mask_Wal_Albany.drop(['Evaporation_x', 'Sunshine_x', 'Cloud3pm_x', 'Cloud9am_x'], axis = 1)\n",
    "mask_Wal_Albany.rename(columns={\"Evaporation_y\": \"Evaporation\", \"Sunshine_y\": \"Sunshine\", 'Cloud3pm_y':'Cloud3pm', \"Cloud9am_y\": 'Cloud9am' }, inplace = True)"
   ]
  },
  {
   "cell_type": "code",
   "execution_count": 110,
   "id": "ea956f41",
   "metadata": {},
   "outputs": [],
   "source": [
    "weather_df = weather_df [weather_df [\"Location\"] != 'Walpole']"
   ]
  },
  {
   "cell_type": "code",
   "execution_count": 111,
   "id": "1042c32c",
   "metadata": {},
   "outputs": [
    {
     "data": {
      "text/plain": [
       "(142193, 23)"
      ]
     },
     "execution_count": 111,
     "metadata": {},
     "output_type": "execute_result"
    }
   ],
   "source": [
    "weather_df = weather_df.append(mask_Wal_Albany)\n",
    "weather_df.shape"
   ]
  },
  {
   "cell_type": "raw",
   "id": "199c6ef4",
   "metadata": {},
   "source": [
    "\n",
    "MountGinini ---> canberra\n"
   ]
  },
  {
   "cell_type": "code",
   "execution_count": 112,
   "id": "94c9af9c",
   "metadata": {},
   "outputs": [
    {
     "name": "stdout",
     "output_type": "stream",
     "text": [
      "<class 'pandas.core.frame.DataFrame'>\n",
      "Int64Index: 2907 entries, 52062 to 55101\n",
      "Data columns (total 23 columns):\n",
      " #   Column         Non-Null Count  Dtype         \n",
      "---  ------         --------------  -----         \n",
      " 0   Date           2907 non-null   datetime64[ns]\n",
      " 1   Location       2907 non-null   object        \n",
      " 2   MinTemp        2907 non-null   float64       \n",
      " 3   MaxTemp        2907 non-null   float64       \n",
      " 4   Rainfall       2907 non-null   float64       \n",
      " 5   Evaporation    0 non-null      float64       \n",
      " 6   Sunshine       0 non-null      float64       \n",
      " 7   WindGustDir    2715 non-null   object        \n",
      " 8   WindGustSpeed  2907 non-null   float64       \n",
      " 9   WindDir9am     2710 non-null   object        \n",
      " 10  WindDir3pm     2731 non-null   object        \n",
      " 11  WindSpeed9am   2907 non-null   float64       \n",
      " 12  WindSpeed3pm   2907 non-null   float64       \n",
      " 13  Humidity9am    2907 non-null   float64       \n",
      " 14  Humidity3pm    2907 non-null   float64       \n",
      " 15  Pressure9am    0 non-null      float64       \n",
      " 16  Pressure3pm    0 non-null      float64       \n",
      " 17  Cloud9am       0 non-null      float64       \n",
      " 18  Cloud3pm       0 non-null      float64       \n",
      " 19  Temp9am        2907 non-null   float64       \n",
      " 20  Temp3pm        2907 non-null   float64       \n",
      " 21  RainToday      2816 non-null   object        \n",
      " 22  RainTomorrow   2907 non-null   object        \n",
      "dtypes: datetime64[ns](1), float64(16), object(6)\n",
      "memory usage: 545.1+ KB\n"
     ]
    }
   ],
   "source": [
    "mask_Mt = weather_df[(weather_df['Location'] == 'MountGinini')] \n",
    "mask_Mt.info()"
   ]
  },
  {
   "cell_type": "code",
   "execution_count": 113,
   "id": "72edd7a5",
   "metadata": {},
   "outputs": [],
   "source": [
    "mask_Can = weather_df[(weather_df['Location'] == 'Canberra')] \n",
    "mask_Can = mask_Can[['Date', 'Evaporation', 'Sunshine', 'Cloud9am', 'Cloud3pm', 'Pressure9am', 'Pressure3pm']]"
   ]
  },
  {
   "cell_type": "code",
   "execution_count": 114,
   "id": "2b0ef68c",
   "metadata": {},
   "outputs": [],
   "source": [
    "mask_Can_Mt = pd.merge(mask_Mt, \n",
    "                     mask_Can, \n",
    "                     on ='Date', \n",
    "                     how ='left')"
   ]
  },
  {
   "cell_type": "code",
   "execution_count": 115,
   "id": "4f313bd8",
   "metadata": {},
   "outputs": [],
   "source": [
    "mask_Can_Mt = mask_Can_Mt.drop(['Evaporation_x', 'Sunshine_x', 'Cloud3pm_x', 'Cloud9am_x','Pressure9am_x', 'Pressure3pm_x' ], axis = 1)\n",
    "mask_Can_Mt.rename(columns={\"Evaporation_y\": \"Evaporation\", \"Sunshine_y\": \"Sunshine\", 'Cloud3pm_y':'Cloud3pm', \"Cloud9am_y\": 'Cloud9am' , 'Pressure9am_y': 'Pressure9am', 'Pressure3pm_y': 'Pressure3pm'}, inplace = True)"
   ]
  },
  {
   "cell_type": "code",
   "execution_count": 116,
   "id": "70177729",
   "metadata": {},
   "outputs": [],
   "source": [
    "weather_df = weather_df [weather_df [\"Location\"] != 'MountGinini']"
   ]
  },
  {
   "cell_type": "code",
   "execution_count": 117,
   "id": "d0061a3e",
   "metadata": {},
   "outputs": [
    {
     "data": {
      "text/plain": [
       "(142193, 23)"
      ]
     },
     "execution_count": 117,
     "metadata": {},
     "output_type": "execute_result"
    }
   ],
   "source": [
    "weather_df = weather_df.append(mask_Can_Mt)\n",
    "weather_df.shape"
   ]
  },
  {
   "cell_type": "raw",
   "id": "05cf4ea6",
   "metadata": {},
   "source": [
    "PearceRAAF---> Perth\n"
   ]
  },
  {
   "cell_type": "code",
   "execution_count": 118,
   "id": "ece3271a",
   "metadata": {},
   "outputs": [
    {
     "name": "stdout",
     "output_type": "stream",
     "text": [
      "<class 'pandas.core.frame.DataFrame'>\n",
      "Int64Index: 2762 entries, 114620 to 117628\n",
      "Data columns (total 23 columns):\n",
      " #   Column         Non-Null Count  Dtype         \n",
      "---  ------         --------------  -----         \n",
      " 0   Date           2762 non-null   datetime64[ns]\n",
      " 1   Location       2762 non-null   object        \n",
      " 2   MinTemp        2762 non-null   float64       \n",
      " 3   MaxTemp        2762 non-null   float64       \n",
      " 4   Rainfall       2762 non-null   float64       \n",
      " 5   Evaporation    0 non-null      float64       \n",
      " 6   Sunshine       2762 non-null   float64       \n",
      " 7   WindGustDir    2653 non-null   object        \n",
      " 8   WindGustSpeed  2762 non-null   float64       \n",
      " 9   WindDir9am     2679 non-null   object        \n",
      " 10  WindDir3pm     2738 non-null   object        \n",
      " 11  WindSpeed9am   2762 non-null   float64       \n",
      " 12  WindSpeed3pm   2762 non-null   float64       \n",
      " 13  Humidity9am    2762 non-null   float64       \n",
      " 14  Humidity3pm    2762 non-null   float64       \n",
      " 15  Pressure9am    2762 non-null   float64       \n",
      " 16  Pressure3pm    2762 non-null   float64       \n",
      " 17  Cloud9am       2762 non-null   float64       \n",
      " 18  Cloud3pm       2762 non-null   float64       \n",
      " 19  Temp9am        2762 non-null   float64       \n",
      " 20  Temp3pm        2762 non-null   float64       \n",
      " 21  RainToday      2646 non-null   object        \n",
      " 22  RainTomorrow   2762 non-null   object        \n",
      "dtypes: datetime64[ns](1), float64(16), object(6)\n",
      "memory usage: 517.9+ KB\n"
     ]
    }
   ],
   "source": [
    "mask_Pearce = weather_df[(weather_df['Location'] == 'PearceRAAF')] \n",
    "mask_Pearce .info()"
   ]
  },
  {
   "cell_type": "code",
   "execution_count": 119,
   "id": "8908d6b2",
   "metadata": {},
   "outputs": [],
   "source": [
    "mask_Perth = weather_df[(weather_df['Location'] == 'Perth')] \n",
    "mask_Perth = mask_Perth[['Date', 'Evaporation']]"
   ]
  },
  {
   "cell_type": "code",
   "execution_count": 120,
   "id": "84b7e1c7",
   "metadata": {},
   "outputs": [],
   "source": [
    "mask_Perth_pearce = pd.merge(mask_Pearce, \n",
    "                     mask_Perth, \n",
    "                     on ='Date', \n",
    "                     how ='left')"
   ]
  },
  {
   "cell_type": "code",
   "execution_count": 121,
   "id": "1bca0503",
   "metadata": {},
   "outputs": [],
   "source": [
    "mask_Perth_pearce = mask_Perth_pearce.drop(['Evaporation_x' ], axis = 1)\n",
    "mask_Perth_pearce.rename(columns={\"Evaporation_y\": \"Evaporation\"}, inplace = True)"
   ]
  },
  {
   "cell_type": "code",
   "execution_count": 122,
   "id": "df2fa88b",
   "metadata": {},
   "outputs": [],
   "source": [
    "weather_df = weather_df [weather_df [\"Location\"] != 'PearceRAAF']"
   ]
  },
  {
   "cell_type": "code",
   "execution_count": 123,
   "id": "0ce4d700",
   "metadata": {},
   "outputs": [
    {
     "data": {
      "text/plain": [
       "(142193, 23)"
      ]
     },
     "execution_count": 123,
     "metadata": {},
     "output_type": "execute_result"
    }
   ],
   "source": [
    "weather_df = weather_df.append(mask_Perth_pearce)\n",
    "weather_df.shape"
   ]
  },
  {
   "cell_type": "raw",
   "id": "0c41ab12",
   "metadata": {},
   "source": [
    "Uluru -----> Alice Springs\n"
   ]
  },
  {
   "cell_type": "code",
   "execution_count": 124,
   "id": "3ec4efb6",
   "metadata": {},
   "outputs": [
    {
     "name": "stdout",
     "output_type": "stream",
     "text": [
      "<class 'pandas.core.frame.DataFrame'>\n",
      "Int64Index: 1521 entries, 143882 to 145458\n",
      "Data columns (total 23 columns):\n",
      " #   Column         Non-Null Count  Dtype         \n",
      "---  ------         --------------  -----         \n",
      " 0   Date           1521 non-null   datetime64[ns]\n",
      " 1   Location       1521 non-null   object        \n",
      " 2   MinTemp        1521 non-null   float64       \n",
      " 3   MaxTemp        1521 non-null   float64       \n",
      " 4   Rainfall       1521 non-null   float64       \n",
      " 5   Evaporation    0 non-null      float64       \n",
      " 6   Sunshine       0 non-null      float64       \n",
      " 7   WindGustDir    1495 non-null   object        \n",
      " 8   WindGustSpeed  1521 non-null   float64       \n",
      " 9   WindDir9am     1466 non-null   object        \n",
      " 10  WindDir3pm     1494 non-null   object        \n",
      " 11  WindSpeed9am   1521 non-null   float64       \n",
      " 12  WindSpeed3pm   1521 non-null   float64       \n",
      " 13  Humidity9am    1521 non-null   float64       \n",
      " 14  Humidity3pm    1521 non-null   float64       \n",
      " 15  Pressure9am    1521 non-null   float64       \n",
      " 16  Pressure3pm    1521 non-null   float64       \n",
      " 17  Cloud9am       1521 non-null   float64       \n",
      " 18  Cloud3pm       1521 non-null   float64       \n",
      " 19  Temp9am        1521 non-null   float64       \n",
      " 20  Temp3pm        1521 non-null   float64       \n",
      " 21  RainToday      1502 non-null   object        \n",
      " 22  RainTomorrow   1521 non-null   object        \n",
      "dtypes: datetime64[ns](1), float64(16), object(6)\n",
      "memory usage: 285.2+ KB\n"
     ]
    }
   ],
   "source": [
    "mask_Uluru = weather_df[(weather_df['Location'] == 'Uluru')] \n",
    "mask_Uluru.info()"
   ]
  },
  {
   "cell_type": "code",
   "execution_count": 125,
   "id": "28c039f9",
   "metadata": {},
   "outputs": [],
   "source": [
    "mask_Alice = weather_df[(weather_df['Location'] == 'AliceSprings')] \n",
    "mask_Alice = mask_Alice[['Date', 'Evaporation', 'Sunshine']]"
   ]
  },
  {
   "cell_type": "code",
   "execution_count": 126,
   "id": "00542c9a",
   "metadata": {},
   "outputs": [],
   "source": [
    "mask_Ulu_Alice = pd.merge(mask_Uluru, \n",
    "                     mask_Alice, \n",
    "                     on ='Date', \n",
    "                     how ='left')"
   ]
  },
  {
   "cell_type": "code",
   "execution_count": 127,
   "id": "19285475",
   "metadata": {},
   "outputs": [],
   "source": [
    "mask_Ulu_Alice = mask_Ulu_Alice.drop(['Evaporation_x', 'Sunshine_x' ], axis = 1)\n",
    "mask_Ulu_Alice.rename(columns={\"Evaporation_y\": \"Evaporation\", \"Sunshine_y\": 'Sunshine'}, inplace = True)"
   ]
  },
  {
   "cell_type": "code",
   "execution_count": 128,
   "id": "ac8670b2",
   "metadata": {},
   "outputs": [],
   "source": [
    "weather_df = weather_df [weather_df [\"Location\"] != 'Uluru']"
   ]
  },
  {
   "cell_type": "code",
   "execution_count": 129,
   "id": "89cab3e3",
   "metadata": {},
   "outputs": [
    {
     "data": {
      "text/plain": [
       "(142193, 23)"
      ]
     },
     "execution_count": 129,
     "metadata": {},
     "output_type": "execute_result"
    }
   ],
   "source": [
    "weather_df = weather_df.append(mask_Ulu_Alice)\n",
    "weather_df.shape"
   ]
  },
  {
   "cell_type": "raw",
   "id": "1eca2afb",
   "metadata": {},
   "source": [
    "Lets check the nulls again and work on other features"
   ]
  },
  {
   "cell_type": "code",
   "execution_count": 130,
   "id": "bc3f8151",
   "metadata": {},
   "outputs": [
    {
     "data": {
      "text/plain": [
       "Date                 0\n",
       "Location             0\n",
       "MinTemp              0\n",
       "MaxTemp              0\n",
       "Rainfall             0\n",
       "Evaporation       4550\n",
       "Sunshine         12844\n",
       "WindGustDir       7113\n",
       "WindGustSpeed     3023\n",
       "WindDir9am       10013\n",
       "WindDir3pm        3778\n",
       "WindSpeed9am         0\n",
       "WindSpeed3pm         0\n",
       "Humidity9am          0\n",
       "Humidity3pm          0\n",
       "Pressure9am       2985\n",
       "Pressure3pm       2985\n",
       "Cloud9am          9745\n",
       "Cloud3pm          9745\n",
       "Temp9am              0\n",
       "Temp3pm              0\n",
       "RainToday         1406\n",
       "RainTomorrow         0\n",
       "dtype: int64"
      ]
     },
     "execution_count": 130,
     "metadata": {},
     "output_type": "execute_result"
    }
   ],
   "source": [
    "weather_df.isnull().sum() ## There are still some nulls. "
   ]
  },
  {
   "cell_type": "code",
   "execution_count": 131,
   "id": "40b1bbfb",
   "metadata": {},
   "outputs": [
    {
     "data": {
      "text/plain": [
       "(12844, 23)"
      ]
     },
     "execution_count": 131,
     "metadata": {},
     "output_type": "execute_result"
    }
   ],
   "source": [
    "mask_Sun = weather_df[weather_df['Sunshine'].isna()]\n",
    "mask_Sun.shape"
   ]
  },
  {
   "cell_type": "code",
   "execution_count": 132,
   "id": "c5db38d3",
   "metadata": {},
   "outputs": [
    {
     "data": {
      "text/plain": [
       "Launceston       3028\n",
       "SalmonGums       2955\n",
       "Richmond         2951\n",
       "Katherine        1559\n",
       "Bendigo           756\n",
       "Ballarat          754\n",
       "Nhil              624\n",
       "Albury             63\n",
       "GoldCoast          30\n",
       "Witchcliffe        24\n",
       "Walpole            24\n",
       "MountGinini        18\n",
       "Tuggeranong        18\n",
       "Uluru               8\n",
       "Newcastle           7\n",
       "BadgerysCreek       7\n",
       "NorahHead           7\n",
       "Wollongong          6\n",
       "Penrith             5\n",
       "Name: Location, dtype: int64"
      ]
     },
     "execution_count": 132,
     "metadata": {},
     "output_type": "execute_result"
    }
   ],
   "source": [
    "mask_Sun['Location'].value_counts()"
   ]
  },
  {
   "cell_type": "markdown",
   "id": "06aa1404",
   "metadata": {},
   "source": [
    "## Fillings Nulls for Sunshine"
   ]
  },
  {
   "cell_type": "raw",
   "id": "f8be923b",
   "metadata": {},
   "source": [
    "Launceston ----> Hobart"
   ]
  },
  {
   "cell_type": "code",
   "execution_count": 133,
   "id": "e3d21dde",
   "metadata": {},
   "outputs": [
    {
     "name": "stdout",
     "output_type": "stream",
     "text": [
      "<class 'pandas.core.frame.DataFrame'>\n",
      "Int64Index: 3028 entries, 133031 to 136070\n",
      "Data columns (total 23 columns):\n",
      " #   Column         Non-Null Count  Dtype         \n",
      "---  ------         --------------  -----         \n",
      " 0   Date           3028 non-null   datetime64[ns]\n",
      " 1   Location       3028 non-null   object        \n",
      " 2   MinTemp        3028 non-null   float64       \n",
      " 3   MaxTemp        3028 non-null   float64       \n",
      " 4   Rainfall       3028 non-null   float64       \n",
      " 5   Evaporation    3028 non-null   float64       \n",
      " 6   Sunshine       0 non-null      float64       \n",
      " 7   WindGustDir    2998 non-null   object        \n",
      " 8   WindGustSpeed  3028 non-null   float64       \n",
      " 9   WindDir9am     2572 non-null   object        \n",
      " 10  WindDir3pm     2975 non-null   object        \n",
      " 11  WindSpeed9am   3028 non-null   float64       \n",
      " 12  WindSpeed3pm   3028 non-null   float64       \n",
      " 13  Humidity9am    3028 non-null   float64       \n",
      " 14  Humidity3pm    3028 non-null   float64       \n",
      " 15  Pressure9am    3028 non-null   float64       \n",
      " 16  Pressure3pm    3028 non-null   float64       \n",
      " 17  Cloud9am       3028 non-null   float64       \n",
      " 18  Cloud3pm       3028 non-null   float64       \n",
      " 19  Temp9am        3028 non-null   float64       \n",
      " 20  Temp3pm        3028 non-null   float64       \n",
      " 21  RainToday      3020 non-null   object        \n",
      " 22  RainTomorrow   3028 non-null   object        \n",
      "dtypes: datetime64[ns](1), float64(16), object(6)\n",
      "memory usage: 567.8+ KB\n"
     ]
    }
   ],
   "source": [
    "mask_Lab = weather_df[(weather_df['Location'] == 'Launceston')] \n",
    "mask_Lab .info()"
   ]
  },
  {
   "cell_type": "code",
   "execution_count": 134,
   "id": "8e9ef51e",
   "metadata": {},
   "outputs": [],
   "source": [
    "mask_Hob = weather_df[(weather_df['Location'] == 'Hobart')] \n",
    "mask_Hob = mask_Hob[['Date', 'Sunshine']]"
   ]
  },
  {
   "cell_type": "code",
   "execution_count": 135,
   "id": "fcf74a7a",
   "metadata": {},
   "outputs": [],
   "source": [
    "mask_Hob_Lab = pd.merge(mask_Lab, \n",
    "                     mask_Hob, \n",
    "                     on ='Date', \n",
    "                     how ='left')"
   ]
  },
  {
   "cell_type": "code",
   "execution_count": 136,
   "id": "364ac3ab",
   "metadata": {},
   "outputs": [],
   "source": [
    "mask_Hob_Lab = mask_Hob_Lab.drop([ 'Sunshine_x' ], axis = 1)\n",
    "mask_Hob_Lab.rename(columns={ \"Sunshine_y\": 'Sunshine'}, inplace = True)"
   ]
  },
  {
   "cell_type": "code",
   "execution_count": 137,
   "id": "83364254",
   "metadata": {},
   "outputs": [],
   "source": [
    "weather_df = weather_df [weather_df [\"Location\"] != 'Launceston']"
   ]
  },
  {
   "cell_type": "code",
   "execution_count": 138,
   "id": "1a8a131b",
   "metadata": {},
   "outputs": [
    {
     "data": {
      "text/plain": [
       "(142193, 23)"
      ]
     },
     "execution_count": 138,
     "metadata": {},
     "output_type": "execute_result"
    }
   ],
   "source": [
    "weather_df = weather_df.append(mask_Hob_Lab)\n",
    "weather_df.shape"
   ]
  },
  {
   "cell_type": "raw",
   "id": "01ddefc2",
   "metadata": {},
   "source": [
    "Richmond-----> Hobart\n"
   ]
  },
  {
   "cell_type": "code",
   "execution_count": 139,
   "id": "29594464",
   "metadata": {},
   "outputs": [
    {
     "name": "stdout",
     "output_type": "stream",
     "text": [
      "<class 'pandas.core.frame.DataFrame'>\n",
      "Int64Index: 2951 entries, 27167 to 30175\n",
      "Data columns (total 23 columns):\n",
      " #   Column         Non-Null Count  Dtype         \n",
      "---  ------         --------------  -----         \n",
      " 0   Date           2951 non-null   datetime64[ns]\n",
      " 1   Location       2951 non-null   object        \n",
      " 2   MinTemp        2951 non-null   float64       \n",
      " 3   MaxTemp        2951 non-null   float64       \n",
      " 4   Rainfall       2951 non-null   float64       \n",
      " 5   Evaporation    2951 non-null   float64       \n",
      " 6   Sunshine       0 non-null      float64       \n",
      " 7   WindGustDir    2934 non-null   object        \n",
      " 8   WindGustSpeed  2951 non-null   float64       \n",
      " 9   WindDir9am     2128 non-null   object        \n",
      " 10  WindDir3pm     2850 non-null   object        \n",
      " 11  WindSpeed9am   2951 non-null   float64       \n",
      " 12  WindSpeed3pm   2951 non-null   float64       \n",
      " 13  Humidity9am    2951 non-null   float64       \n",
      " 14  Humidity3pm    2951 non-null   float64       \n",
      " 15  Pressure9am    2951 non-null   float64       \n",
      " 16  Pressure3pm    2951 non-null   float64       \n",
      " 17  Cloud9am       2951 non-null   float64       \n",
      " 18  Cloud3pm       2951 non-null   float64       \n",
      " 19  Temp9am        2951 non-null   float64       \n",
      " 20  Temp3pm        2951 non-null   float64       \n",
      " 21  RainToday      2906 non-null   object        \n",
      " 22  RainTomorrow   2951 non-null   object        \n",
      "dtypes: datetime64[ns](1), float64(16), object(6)\n",
      "memory usage: 553.3+ KB\n"
     ]
    }
   ],
   "source": [
    "mask_Rich = weather_df[(weather_df['Location'] == 'Richmond')] \n",
    "mask_Rich .info()\n"
   ]
  },
  {
   "cell_type": "code",
   "execution_count": 140,
   "id": "41817e80",
   "metadata": {},
   "outputs": [],
   "source": [
    "mask_Hob = weather_df[(weather_df['Location'] == 'Hobart')] \n",
    "mask_Hob = mask_Hob[['Date', 'Sunshine']]"
   ]
  },
  {
   "cell_type": "code",
   "execution_count": 141,
   "id": "65ad58b6",
   "metadata": {},
   "outputs": [],
   "source": [
    "mask_Hob_Rich = pd.merge(mask_Rich, \n",
    "                     mask_Hob, \n",
    "                     on ='Date', \n",
    "                     how ='left')"
   ]
  },
  {
   "cell_type": "code",
   "execution_count": 142,
   "id": "3c1f8f00",
   "metadata": {},
   "outputs": [],
   "source": [
    "mask_Hob_Rich = mask_Hob_Rich.drop([ 'Sunshine_x' ], axis = 1)\n",
    "mask_Hob_Rich.rename(columns={ \"Sunshine_y\": 'Sunshine'}, inplace = True)"
   ]
  },
  {
   "cell_type": "code",
   "execution_count": 143,
   "id": "966292ba",
   "metadata": {},
   "outputs": [],
   "source": [
    "weather_df = weather_df [weather_df [\"Location\"] != 'Richmond']"
   ]
  },
  {
   "cell_type": "code",
   "execution_count": 144,
   "id": "9f019aea",
   "metadata": {},
   "outputs": [
    {
     "data": {
      "text/plain": [
       "(142193, 23)"
      ]
     },
     "execution_count": 144,
     "metadata": {},
     "output_type": "execute_result"
    }
   ],
   "source": [
    "weather_df = weather_df.append(mask_Hob_Rich)\n",
    "weather_df.shape"
   ]
  },
  {
   "cell_type": "raw",
   "id": "24a7207f",
   "metadata": {},
   "source": [
    "Some cities do like Katherine have no close cities so replacing nulls with average"
   ]
  },
  {
   "cell_type": "code",
   "execution_count": 145,
   "id": "a8456d72",
   "metadata": {},
   "outputs": [
    {
     "data": {
      "text/plain": [
       "Date                 0\n",
       "Location             0\n",
       "MinTemp              0\n",
       "MaxTemp              0\n",
       "Rainfall             0\n",
       "Evaporation       4550\n",
       "Sunshine          6875\n",
       "WindGustDir       7113\n",
       "WindGustSpeed     3023\n",
       "WindDir9am       10013\n",
       "WindDir3pm        3778\n",
       "WindSpeed9am         0\n",
       "WindSpeed3pm         0\n",
       "Humidity9am          0\n",
       "Humidity3pm          0\n",
       "Pressure9am       2985\n",
       "Pressure3pm       2985\n",
       "Cloud9am          9745\n",
       "Cloud3pm          9745\n",
       "Temp9am              0\n",
       "Temp3pm              0\n",
       "RainToday         1406\n",
       "RainTomorrow         0\n",
       "dtype: int64"
      ]
     },
     "execution_count": 145,
     "metadata": {},
     "output_type": "execute_result"
    }
   ],
   "source": [
    "weather_df.isnull().sum() ## There are still some nulls. "
   ]
  },
  {
   "cell_type": "code",
   "execution_count": 146,
   "id": "6ff4e77e",
   "metadata": {},
   "outputs": [],
   "source": [
    "for var in Numerical:\n",
    "    weather_df [var] = weather_df [var].fillna(weather_df.groupby('Location')[var].transform('mean'))"
   ]
  },
  {
   "cell_type": "code",
   "execution_count": 147,
   "id": "49f30edc",
   "metadata": {},
   "outputs": [
    {
     "data": {
      "text/plain": [
       "Date                 0\n",
       "Location             0\n",
       "MinTemp              0\n",
       "MaxTemp              0\n",
       "Rainfall             0\n",
       "Evaporation       2955\n",
       "Sunshine          4514\n",
       "WindGustDir       7113\n",
       "WindGustSpeed     3016\n",
       "WindDir9am       10013\n",
       "WindDir3pm        3778\n",
       "WindSpeed9am         0\n",
       "WindSpeed3pm         0\n",
       "Humidity9am          0\n",
       "Humidity3pm          0\n",
       "Pressure9am       2955\n",
       "Pressure3pm       2955\n",
       "Cloud9am          8988\n",
       "Cloud3pm          8988\n",
       "Temp9am              0\n",
       "Temp3pm              0\n",
       "RainToday         1406\n",
       "RainTomorrow         0\n",
       "dtype: int64"
      ]
     },
     "execution_count": 147,
     "metadata": {},
     "output_type": "execute_result"
    }
   ],
   "source": [
    "weather_df.isnull().sum()"
   ]
  },
  {
   "cell_type": "code",
   "execution_count": 148,
   "id": "f6f9e0b1",
   "metadata": {},
   "outputs": [],
   "source": [
    "for var in Numerical:\n",
    "    weather_df [var] = weather_df [var].fillna(weather_df.groupby('Date')[var].transform('mean'))"
   ]
  },
  {
   "cell_type": "code",
   "execution_count": 149,
   "id": "7ace9a21",
   "metadata": {},
   "outputs": [
    {
     "data": {
      "text/plain": [
       "Date                 0\n",
       "Location             0\n",
       "MinTemp              0\n",
       "MaxTemp              0\n",
       "Rainfall             0\n",
       "Evaporation          0\n",
       "Sunshine             0\n",
       "WindGustDir       7113\n",
       "WindGustSpeed        0\n",
       "WindDir9am       10013\n",
       "WindDir3pm        3778\n",
       "WindSpeed9am         0\n",
       "WindSpeed3pm         0\n",
       "Humidity9am          0\n",
       "Humidity3pm          0\n",
       "Pressure9am          0\n",
       "Pressure3pm          0\n",
       "Cloud9am             0\n",
       "Cloud3pm             0\n",
       "Temp9am              0\n",
       "Temp3pm              0\n",
       "RainToday         1406\n",
       "RainTomorrow         0\n",
       "dtype: int64"
      ]
     },
     "execution_count": 149,
     "metadata": {},
     "output_type": "execute_result"
    }
   ],
   "source": [
    "weather_df.isnull().sum()"
   ]
  },
  {
   "cell_type": "code",
   "execution_count": 150,
   "id": "9b389fe7",
   "metadata": {},
   "outputs": [],
   "source": [
    "weather_df = weather_df.fillna('Unknown') ## Filled Categorical features with unknown. \n",
    "\n"
   ]
  },
  {
   "cell_type": "code",
   "execution_count": 151,
   "id": "5bad2699",
   "metadata": {},
   "outputs": [
    {
     "data": {
      "text/plain": [
       "Date             0\n",
       "Location         0\n",
       "MinTemp          0\n",
       "MaxTemp          0\n",
       "Rainfall         0\n",
       "Evaporation      0\n",
       "Sunshine         0\n",
       "WindGustDir      0\n",
       "WindGustSpeed    0\n",
       "WindDir9am       0\n",
       "WindDir3pm       0\n",
       "WindSpeed9am     0\n",
       "WindSpeed3pm     0\n",
       "Humidity9am      0\n",
       "Humidity3pm      0\n",
       "Pressure9am      0\n",
       "Pressure3pm      0\n",
       "Cloud9am         0\n",
       "Cloud3pm         0\n",
       "Temp9am          0\n",
       "Temp3pm          0\n",
       "RainToday        0\n",
       "RainTomorrow     0\n",
       "dtype: int64"
      ]
     },
     "execution_count": 151,
     "metadata": {},
     "output_type": "execute_result"
    }
   ],
   "source": [
    "weather_df.isnull().sum()"
   ]
  },
  {
   "cell_type": "code",
   "execution_count": 152,
   "id": "001b1e0c",
   "metadata": {},
   "outputs": [
    {
     "data": {
      "text/plain": [
       "(142193, 23)"
      ]
     },
     "execution_count": 152,
     "metadata": {},
     "output_type": "execute_result"
    }
   ],
   "source": [
    "weather_df.shape"
   ]
  },
  {
   "cell_type": "code",
   "execution_count": 153,
   "id": "f86865d9",
   "metadata": {},
   "outputs": [
    {
     "name": "stdout",
     "output_type": "stream",
     "text": [
      "Stored 'weather_df' (DataFrame)\n"
     ]
    }
   ],
   "source": [
    "%store weather_df"
   ]
  },
  {
   "cell_type": "code",
   "execution_count": 154,
   "id": "1f6b0efc",
   "metadata": {},
   "outputs": [],
   "source": [
    "weather_df.to_csv ('weather_df_cleaned.csv')\n"
   ]
  },
  {
   "cell_type": "code",
   "execution_count": null,
   "id": "be079424",
   "metadata": {},
   "outputs": [],
   "source": []
  }
 ],
 "metadata": {
  "kernelspec": {
   "display_name": "Python 3",
   "language": "python",
   "name": "python3"
  },
  "language_info": {
   "codemirror_mode": {
    "name": "ipython",
    "version": 3
   },
   "file_extension": ".py",
   "mimetype": "text/x-python",
   "name": "python",
   "nbconvert_exporter": "python",
   "pygments_lexer": "ipython3",
   "version": "3.9.5"
  }
 },
 "nbformat": 4,
 "nbformat_minor": 5
}
